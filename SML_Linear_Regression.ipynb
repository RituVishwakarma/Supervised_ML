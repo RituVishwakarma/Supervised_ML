{
  "nbformat": 4,
  "nbformat_minor": 0,
  "metadata": {
    "colab": {
      "provenance": []
    },
    "kernelspec": {
      "name": "python3",
      "display_name": "Python 3"
    },
    "language_info": {
      "name": "python"
    }
  },
  "cells": [
    {
      "cell_type": "markdown",
      "source": [
        "SML Assignment-1: Linear Regression"
      ],
      "metadata": {
        "id": "f5_nLIjWfY30"
      }
    },
    {
      "cell_type": "code",
      "execution_count": null,
      "metadata": {
        "id": "SQJOt6vQTqnu"
      },
      "outputs": [],
      "source": [
        "import pandas as pd"\n,
        "import numpy as np\n",
        "from sklearn.linear_model import LinearRegression\n",
        "from sklearn.model_selection import train_test_split\n",
        "import matplotlib.pyplot as plt"
      ]
    },
    {
      "cell_type": "code",
      "source": [
        "#Reading the data\n",
        "df=pd.read_csv(\"/content/Salary_Data.csv\")\n",
        "df"
      ],
      "metadata": {
        "colab": {
          "base_uri": "https://localhost:8080/",
          "height": 990
        },
        "id": "Pr5-_75BUt8g",
        "outputId": "a97d61bd-5d2a-49ec-ad69-cf7cedefc20c"
      },
      "execution_count": null,
      "outputs": [
        {
          "output_type": "execute_result",
          "data": {
            "text/plain": [
              "    YearsExperience    Salary\n",
              "0               1.1   39343.0\n",
              "1               1.3   46205.0\n",
              "2               1.5   37731.0\n",
              "3               2.0   43525.0\n",
              "4               2.2   39891.0\n",
              "5               2.9   56642.0\n",
              "6               3.0   60150.0\n",
              "7               3.2   54445.0\n",
              "8               3.2   64445.0\n",
              "9               3.7   57189.0\n",
              "10              3.9   63218.0\n",
              "11              4.0   55794.0\n",
              "12              4.0   56957.0\n",
              "13              4.1   57081.0\n",
              "14              4.5   61111.0\n",
              "15              4.9   67938.0\n",
              "16              5.1   66029.0\n",
              "17              5.3   83088.0\n",
              "18              5.9   81363.0\n",
              "19              6.0   93940.0\n",
              "20              6.8   91738.0\n",
              "21              7.1   98273.0\n",
              "22              7.9  101302.0\n",
              "23              8.2  113812.0\n",
              "24              8.7  109431.0\n",
              "25              9.0  105582.0\n",
              "26              9.5  116969.0\n",
              "27              9.6  112635.0\n",
              "28             10.3  122391.0\n",
              "29             10.5  121872.0"
            ],
            "text/html": [
              "\n",
              "  <div id=\"df-67e16228-671f-4d40-9cec-5f055832c16f\" class=\"colab-df-container\">\n",
              "    <div>\n",
              "<style scoped>\n",
              "    .dataframe tbody tr th:only-of-type {\n",
              "        vertical-align: middle;\n",
              "    }\n",
              "\n",
              "    .dataframe tbody tr th {\n",
              "        vertical-align: top;\n",
              "    }\n",
              "\n",
              "    .dataframe thead th {\n",
              "        text-align: right;\n",
              "    }\n",
              "</style>\n",
              "<table border=\"1\" class=\"dataframe\">\n",
              "  <thead>\n",
              "    <tr style=\"text-align: right;\">\n",
              "      <th></th>\n",
              "      <th>YearsExperience</th>\n",
              "      <th>Salary</th>\n",
              "    </tr>\n",
              "  </thead>\n",
              "  <tbody>\n",
              "    <tr>\n",
              "      <th>0</th>\n",
              "      <td>1.1</td>\n",
              "      <td>39343.0</td>\n",
              "    </tr>\n",
              "    <tr>\n",
              "      <th>1</th>\n",
              "      <td>1.3</td>\n",
              "      <td>46205.0</td>\n",
              "    </tr>\n",
              "    <tr>\n",
              "      <th>2</th>\n",
              "      <td>1.5</td>\n",
              "      <td>37731.0</td>\n",
              "    </tr>\n",
              "    <tr>\n",
              "      <th>3</th>\n",
              "      <td>2.0</td>\n",
              "      <td>43525.0</td>\n",
              "    </tr>\n",
              "    <tr>\n",
              "      <th>4</th>\n",
              "      <td>2.2</td>\n",
              "      <td>39891.0</td>\n",
              "    </tr>\n",
              "    <tr>\n",
              "      <th>5</th>\n",
              "      <td>2.9</td>\n",
              "      <td>56642.0</td>\n",
              "    </tr>\n",
              "    <tr>\n",
              "      <th>6</th>\n",
              "      <td>3.0</td>\n",
              "      <td>60150.0</td>\n",
              "    </tr>\n",
              "    <tr>\n",
              "      <th>7</th>\n",
              "      <td>3.2</td>\n",
              "      <td>54445.0</td>\n",
              "    </tr>\n",
              "    <tr>\n",
              "      <th>8</th>\n",
              "      <td>3.2</td>\n",
              "      <td>64445.0</td>\n",
              "    </tr>\n",
              "    <tr>\n",
              "      <th>9</th>\n",
              "      <td>3.7</td>\n",
              "      <td>57189.0</td>\n",
              "    </tr>\n",
              "    <tr>\n",
              "      <th>10</th>\n",
              "      <td>3.9</td>\n",
              "      <td>63218.0</td>\n",
              "    </tr>\n",
              "    <tr>\n",
              "      <th>11</th>\n",
              "      <td>4.0</td>\n",
              "      <td>55794.0</td>\n",
              "    </tr>\n",
              "    <tr>\n",
              "      <th>12</th>\n",
              "      <td>4.0</td>\n",
              "      <td>56957.0</td>\n",
              "    </tr>\n",
              "    <tr>\n",
              "      <th>13</th>\n",
              "      <td>4.1</td>\n",
              "      <td>57081.0</td>\n",
              "    </tr>\n",
              "    <tr>\n",
              "      <th>14</th>\n",
              "      <td>4.5</td>\n",
              "      <td>61111.0</td>\n",
              "    </tr>\n",
              "    <tr>\n",
              "      <th>15</th>\n",
              "      <td>4.9</td>\n",
              "      <td>67938.0</td>\n",
              "    </tr>\n",
              "    <tr>\n",
              "      <th>16</th>\n",
              "      <td>5.1</td>\n",
              "      <td>66029.0</td>\n",
              "    </tr>\n",
              "    <tr>\n",
              "      <th>17</th>\n",
              "      <td>5.3</td>\n",
              "      <td>83088.0</td>\n",
              "    </tr>\n",
              "    <tr>\n",
              "      <th>18</th>\n",
              "      <td>5.9</td>\n",
              "      <td>81363.0</td>\n",
              "    </tr>\n",
              "    <tr>\n",
              "      <th>19</th>\n",
              "      <td>6.0</td>\n",
              "      <td>93940.0</td>\n",
              "    </tr>\n",
              "    <tr>\n",
              "      <th>20</th>\n",
              "      <td>6.8</td>\n",
              "      <td>91738.0</td>\n",
              "    </tr>\n",
              "    <tr>\n",
              "      <th>21</th>\n",
              "      <td>7.1</td>\n",
              "      <td>98273.0</td>\n",
              "    </tr>\n",
              "    <tr>\n",
              "      <th>22</th>\n",
              "      <td>7.9</td>\n",
              "      <td>101302.0</td>\n",
              "    </tr>\n",
              "    <tr>\n",
              "      <th>23</th>\n",
              "      <td>8.2</td>\n",
              "      <td>113812.0</td>\n",
              "    </tr>\n",
              "    <tr>\n",
              "      <th>24</th>\n",
              "      <td>8.7</td>\n",
              "      <td>109431.0</td>\n",
              "    </tr>\n",
              "    <tr>\n",
              "      <th>25</th>\n",
              "      <td>9.0</td>\n",
              "      <td>105582.0</td>\n",
              "    </tr>\n",
              "    <tr>\n",
              "      <th>26</th>\n",
              "      <td>9.5</td>\n",
              "      <td>116969.0</td>\n",
              "    </tr>\n",
              "    <tr>\n",
              "      <th>27</th>\n",
              "      <td>9.6</td>\n",
              "      <td>112635.0</td>\n",
              "    </tr>\n",
              "    <tr>\n",
              "      <th>28</th>\n",
              "      <td>10.3</td>\n",
              "      <td>122391.0</td>\n",
              "    </tr>\n",
              "    <tr>\n",
              "      <th>29</th>\n",
              "      <td>10.5</td>\n",
              "      <td>121872.0</td>\n",
              "    </tr>\n",
              "  </tbody>\n",
              "</table>\n",
              "</div>\n",
              "    <div class=\"colab-df-buttons\">\n",
              "\n",
              "  <div class=\"colab-df-container\">\n",
              "    <button class=\"colab-df-convert\" onclick=\"convertToInteractive('df-67e16228-671f-4d40-9cec-5f055832c16f')\"\n",
              "            title=\"Convert this dataframe to an interactive table.\"\n",
              "            style=\"display:none;\">\n",
              "\n",
              "  <svg xmlns=\"http://www.w3.org/2000/svg\" height=\"24px\" viewBox=\"0 -960 960 960\">\n",
              "    <path d=\"M120-120v-720h720v720H120Zm60-500h600v-160H180v160Zm220 220h160v-160H400v160Zm0 220h160v-160H400v160ZM180-400h160v-160H180v160Zm440 0h160v-160H620v160ZM180-180h160v-160H180v160Zm440 0h160v-160H620v160Z\"/>\n",
              "  </svg>\n",
              "    </button>\n",
              "\n",
              "  <style>\n",
              "    .colab-df-container {\n",
              "      display:flex;\n",
              "      gap: 12px;\n",
              "    }\n",
              "\n",
              "    .colab-df-convert {\n",
              "      background-color: #E8F0FE;\n",
              "      border: none;\n",
              "      border-radius: 50%;\n",
              "      cursor: pointer;\n",
              "      display: none;\n",
              "      fill: #1967D2;\n",
              "      height: 32px;\n",
              "      padding: 0 0 0 0;\n",
              "      width: 32px;\n",
              "    }\n",
              "\n",
              "    .colab-df-convert:hover {\n",
              "      background-color: #E2EBFA;\n",
              "      box-shadow: 0px 1px 2px rgba(60, 64, 67, 0.3), 0px 1px 3px 1px rgba(60, 64, 67, 0.15);\n",
              "      fill: #174EA6;\n",
              "    }\n",
              "\n",
              "    .colab-df-buttons div {\n",
              "      margin-bottom: 4px;\n",
              "    }\n",
              "\n",
              "    [theme=dark] .colab-df-convert {\n",
              "      background-color: #3B4455;\n",
              "      fill: #D2E3FC;\n",
              "    }\n",
              "\n",
              "    [theme=dark] .colab-df-convert:hover {\n",
              "      background-color: #434B5C;\n",
              "      box-shadow: 0px 1px 3px 1px rgba(0, 0, 0, 0.15);\n",
              "      filter: drop-shadow(0px 1px 2px rgba(0, 0, 0, 0.3));\n",
              "      fill: #FFFFFF;\n",
              "    }\n",
              "  </style>\n",
              "\n",
              "    <script>\n",
              "      const buttonEl =\n",
              "        document.querySelector('#df-67e16228-671f-4d40-9cec-5f055832c16f button.colab-df-convert');\n",
              "      buttonEl.style.display =\n",
              "        google.colab.kernel.accessAllowed ? 'block' : 'none';\n",
              "\n",
              "      async function convertToInteractive(key) {\n",
              "        const element = document.querySelector('#df-67e16228-671f-4d40-9cec-5f055832c16f');\n",
              "        const dataTable =\n",
              "          await google.colab.kernel.invokeFunction('convertToInteractive',\n",
              "                                                    [key], {});\n",
              "        if (!dataTable) return;\n",
              "\n",
              "        const docLinkHtml = 'Like what you see? Visit the ' +\n",
              "          '<a target=\"_blank\" href=https://colab.research.google.com/notebooks/data_table.ipynb>data table notebook</a>'\n",
              "          + ' to learn more about interactive tables.';\n",
              "        element.innerHTML = '';\n",
              "        dataTable['output_type'] = 'display_data';\n",
              "        await google.colab.output.renderOutput(dataTable, element);\n",
              "        const docLink = document.createElement('div');\n",
              "        docLink.innerHTML = docLinkHtml;\n",
              "        element.appendChild(docLink);\n",
              "      }\n",
              "    </script>\n",
              "  </div>\n",
              "\n",
              "\n",
              "<div id=\"df-e5142b86-713c-443c-a2a7-b7bcbb95f833\">\n",
              "  <button class=\"colab-df-quickchart\" onclick=\"quickchart('df-e5142b86-713c-443c-a2a7-b7bcbb95f833')\"\n",
              "            title=\"Suggest charts.\"\n",
              "            style=\"display:none;\">\n",
              "\n",
              "<svg xmlns=\"http://www.w3.org/2000/svg\" height=\"24px\"viewBox=\"0 0 24 24\"\n",
              "     width=\"24px\">\n",
              "    <g>\n",
              "        <path d=\"M19 3H5c-1.1 0-2 .9-2 2v14c0 1.1.9 2 2 2h14c1.1 0 2-.9 2-2V5c0-1.1-.9-2-2-2zM9 17H7v-7h2v7zm4 0h-2V7h2v10zm4 0h-2v-4h2v4z\"/>\n",
              "    </g>\n",
              "</svg>\n",
              "  </button>\n",
              "\n",
              "<style>\n",
              "  .colab-df-quickchart {\n",
              "    background-color: #E8F0FE;\n",
              "    border: none;\n",
              "    border-radius: 50%;\n",
              "    cursor: pointer;\n",
              "    display: none;\n",
              "    fill: #1967D2;\n",
              "    height: 32px;\n",
              "    padding: 0 0 0 0;\n",
              "    width: 32px;\n",
              "  }\n",
              "\n",
              "  .colab-df-quickchart:hover {\n",
              "    background-color: #E2EBFA;\n",
              "    box-shadow: 0px 1px 2px rgba(60, 64, 67, 0.3), 0px 1px 3px 1px rgba(60, 64, 67, 0.15);\n",
              "    fill: #174EA6;\n",
              "  }\n",
              "\n",
              "  [theme=dark] .colab-df-quickchart {\n",
              "    background-color: #3B4455;\n",
              "    fill: #D2E3FC;\n",
              "  }\n",
              "\n",
              "  [theme=dark] .colab-df-quickchart:hover {\n",
              "    background-color: #434B5C;\n",
              "    box-shadow: 0px 1px 3px 1px rgba(0, 0, 0, 0.15);\n",
              "    filter: drop-shadow(0px 1px 2px rgba(0, 0, 0, 0.3));\n",
              "    fill: #FFFFFF;\n",
              "  }\n",
              "</style>\n",
              "\n",
              "  <script>\n",
              "    async function quickchart(key) {\n",
              "      const charts = await google.colab.kernel.invokeFunction(\n",
              "          'suggestCharts', [key], {});\n",
              "    }\n",
              "    (() => {\n",
              "      let quickchartButtonEl =\n",
              "        document.querySelector('#df-e5142b86-713c-443c-a2a7-b7bcbb95f833 button');\n",
              "      quickchartButtonEl.style.display =\n",
              "        google.colab.kernel.accessAllowed ? 'block' : 'none';\n",
              "    })();\n",
              "  </script>\n",
              "</div>\n",
              "    </div>\n",
              "  </div>\n"
            ]
          },
          "metadata": {},
          "execution_count": 38
        }
      ]
    },
    {
      "cell_type": "code",
      "source": [
        "df.columns"
      ],
      "metadata": {
        "colab": {
          "base_uri": "https://localhost:8080/"
        },
        "id": "vqOXof4IVTvW",
        "outputId": "0ac7dba0-8dc4-4be3-c3f6-26dc8b80b928"
      },
      "execution_count": null,
      "outputs": [
        {
          "output_type": "execute_result",
          "data": {
            "text/plain": [
              "Index(['YearsExperience', 'Salary'], dtype='object')"
            ]
          },
          "metadata": {},
          "execution_count": 39
        }
      ]
    },
    {
      "cell_type": "code",
      "source": [
        "X=df.loc[:,['YearsExperience']]\n",
        "y=df.loc[:,['Salary']]\n",
        "print(y)"
      ],
      "metadata": {
        "colab": {
          "base_uri": "https://localhost:8080/"
        },
        "id": "21L97qlAVYiG",
        "outputId": "744ed36f-214e-40e9-d3a1-27d8a059f85b"
      },
      "execution_count": null,
      "outputs": [
        {
          "output_type": "stream",
          "name": "stdout",
          "text": [
            "      Salary\n",
            "0    39343.0\n",
            "1    46205.0\n",
            "2    37731.0\n",
            "3    43525.0\n",
            "4    39891.0\n",
            "5    56642.0\n",
            "6    60150.0\n",
            "7    54445.0\n",
            "8    64445.0\n",
            "9    57189.0\n",
            "10   63218.0\n",
            "11   55794.0\n",
            "12   56957.0\n",
            "13   57081.0\n",
            "14   61111.0\n",
            "15   67938.0\n",
            "16   66029.0\n",
            "17   83088.0\n",
            "18   81363.0\n",
            "19   93940.0\n",
            "20   91738.0\n",
            "21   98273.0\n",
            "22  101302.0\n",
            "23  113812.0\n",
            "24  109431.0\n",
            "25  105582.0\n",
            "26  116969.0\n",
            "27  112635.0\n",
            "28  122391.0\n",
            "29  121872.0\n"
          ]
        }
      ]
    },
    {
      "cell_type": "code",
      "source": [
        "model=LinearRegression()"
      ],
      "metadata": {
        "id": "casnHLrTVjhe"
      },
      "execution_count": null,
      "outputs": []
    },
    {
      "cell_type": "code",
      "source": [
        "model.fit(X,y)"
      ],
      "metadata": {
        "colab": {
          "base_uri": "https://localhost:8080/",
          "height": 75
        },
        "id": "m9Q3b6prVnNX",
        "outputId": "1b3339fc-0276-437e-a186-2449ea8ea2b6"
      },
      "execution_count": null,
      "outputs": [
        {
          "output_type": "execute_result",
          "data": {
            "text/plain": [
              "LinearRegression()"
            ],
            "text/html": [
              "<style>#sk-container-id-5 {color: black;background-color: white;}#sk-container-id-5 pre{padding: 0;}#sk-container-id-5 div.sk-toggleable {background-color: white;}#sk-container-id-5 label.sk-toggleable__label {cursor: pointer;display: block;width: 100%;margin-bottom: 0;padding: 0.3em;box-sizing: border-box;text-align: center;}#sk-container-id-5 label.sk-toggleable__label-arrow:before {content: \"▸\";float: left;margin-right: 0.25em;color: #696969;}#sk-container-id-5 label.sk-toggleable__label-arrow:hover:before {color: black;}#sk-container-id-5 div.sk-estimator:hover label.sk-toggleable__label-arrow:before {color: black;}#sk-container-id-5 div.sk-toggleable__content {max-height: 0;max-width: 0;overflow: hidden;text-align: left;background-color: #f0f8ff;}#sk-container-id-5 div.sk-toggleable__content pre {margin: 0.2em;color: black;border-radius: 0.25em;background-color: #f0f8ff;}#sk-container-id-5 input.sk-toggleable__control:checked~div.sk-toggleable__content {max-height: 200px;max-width: 100%;overflow: auto;}#sk-container-id-5 input.sk-toggleable__control:checked~label.sk-toggleable__label-arrow:before {content: \"▾\";}#sk-container-id-5 div.sk-estimator input.sk-toggleable__control:checked~label.sk-toggleable__label {background-color: #d4ebff;}#sk-container-id-5 div.sk-label input.sk-toggleable__control:checked~label.sk-toggleable__label {background-color: #d4ebff;}#sk-container-id-5 input.sk-hidden--visually {border: 0;clip: rect(1px 1px 1px 1px);clip: rect(1px, 1px, 1px, 1px);height: 1px;margin: -1px;overflow: hidden;padding: 0;position: absolute;width: 1px;}#sk-container-id-5 div.sk-estimator {font-family: monospace;background-color: #f0f8ff;border: 1px dotted black;border-radius: 0.25em;box-sizing: border-box;margin-bottom: 0.5em;}#sk-container-id-5 div.sk-estimator:hover {background-color: #d4ebff;}#sk-container-id-5 div.sk-parallel-item::after {content: \"\";width: 100%;border-bottom: 1px solid gray;flex-grow: 1;}#sk-container-id-5 div.sk-label:hover label.sk-toggleable__label {background-color: #d4ebff;}#sk-container-id-5 div.sk-serial::before {content: \"\";position: absolute;border-left: 1px solid gray;box-sizing: border-box;top: 0;bottom: 0;left: 50%;z-index: 0;}#sk-container-id-5 div.sk-serial {display: flex;flex-direction: column;align-items: center;background-color: white;padding-right: 0.2em;padding-left: 0.2em;position: relative;}#sk-container-id-5 div.sk-item {position: relative;z-index: 1;}#sk-container-id-5 div.sk-parallel {display: flex;align-items: stretch;justify-content: center;background-color: white;position: relative;}#sk-container-id-5 div.sk-item::before, #sk-container-id-5 div.sk-parallel-item::before {content: \"\";position: absolute;border-left: 1px solid gray;box-sizing: border-box;top: 0;bottom: 0;left: 50%;z-index: -1;}#sk-container-id-5 div.sk-parallel-item {display: flex;flex-direction: column;z-index: 1;position: relative;background-color: white;}#sk-container-id-5 div.sk-parallel-item:first-child::after {align-self: flex-end;width: 50%;}#sk-container-id-5 div.sk-parallel-item:last-child::after {align-self: flex-start;width: 50%;}#sk-container-id-5 div.sk-parallel-item:only-child::after {width: 0;}#sk-container-id-5 div.sk-dashed-wrapped {border: 1px dashed gray;margin: 0 0.4em 0.5em 0.4em;box-sizing: border-box;padding-bottom: 0.4em;background-color: white;}#sk-container-id-5 div.sk-label label {font-family: monospace;font-weight: bold;display: inline-block;line-height: 1.2em;}#sk-container-id-5 div.sk-label-container {text-align: center;}#sk-container-id-5 div.sk-container {/* jupyter's `normalize.less` sets `[hidden] { display: none; }` but bootstrap.min.css set `[hidden] { display: none !important; }` so we also need the `!important` here to be able to override the default hidden behavior on the sphinx rendered scikit-learn.org. See: https://github.com/scikit-learn/scikit-learn/issues/21755 */display: inline-block !important;position: relative;}#sk-container-id-5 div.sk-text-repr-fallback {display: none;}</style><div id=\"sk-container-id-5\" class=\"sk-top-container\"><div class=\"sk-text-repr-fallback\"><pre>LinearRegression()</pre><b>In a Jupyter environment, please rerun this cell to show the HTML representation or trust the notebook. <br />On GitHub, the HTML representation is unable to render, please try loading this page with nbviewer.org.</b></div><div class=\"sk-container\" hidden><div class=\"sk-item\"><div class=\"sk-estimator sk-toggleable\"><input class=\"sk-toggleable__control sk-hidden--visually\" id=\"sk-estimator-id-5\" type=\"checkbox\" checked><label for=\"sk-estimator-id-5\" class=\"sk-toggleable__label sk-toggleable__label-arrow\">LinearRegression</label><div class=\"sk-toggleable__content\"><pre>LinearRegression()</pre></div></div></div></div></div>"
            ]
          },
          "metadata": {},
          "execution_count": 42
        }
      ]
    },
    {
      "cell_type": "code",
      "source": [
        "model.score(X,y)"
      ],
      "metadata": {
        "colab": {
          "base_uri": "https://localhost:8080/"
        },
        "id": "-IGmKFoJVqYV",
        "outputId": "8c27cc1a-efc8-46b4-8e24-bf8e845702ec"
      },
      "execution_count": null,
      "outputs": [
        {
          "output_type": "execute_result",
          "data": {
            "text/plain": [
              "0.9569566641435086"
            ]
          },
          "metadata": {},
          "execution_count": 43
        }
      ]
    },
    {
      "cell_type": "code",
      "source": [
        "#plotting the entire salary data\n",
        "plt.scatter(X,y, color='red')\n",
        "plt.plot(X,model.predict(X))\n",
        "plt.title('Linear Regression')\n",
        "plt.xlabel('Years of Experience')\n",
        "plt.ylabel('Salary')\n",
        "plt.show()"
      ],
      "metadata": {
        "colab": {
          "base_uri": "https://localhost:8080/",
          "height": 472
        },
        "id": "gUWUgDtJVta2",
        "outputId": "250e6411-5180-4231-bf1c-3d533f3ae87d"
      },
      "execution_count": null,
      "outputs": [
        {
          "output_type": "display_data",
          "data": {
            "text/plain": [
              "<Figure size 640x480 with 1 Axes>"
            ],
            "image/png": "iVBORw0KGgoAAAANSUhEUgAAAlUAAAHHCAYAAACWQK1nAAAAOXRFWHRTb2Z0d2FyZQBNYXRwbG90bGliIHZlcnNpb24zLjcuMSwgaHR0cHM6Ly9tYXRwbG90bGliLm9yZy/bCgiHAAAACXBIWXMAAA9hAAAPYQGoP6dpAABt2UlEQVR4nO3deVxUVf8H8M8wwLAvLuwIuCuigj4RKi5J4pJJiCZamVlZaWKaW+XW4l65b/Vky+OuqGWauWDiEimbO6KiIgouyAz7MnN+f8yPyVFQloFh+bxfr3nZ3Hvuvd+ZnpzPc8+550iEEAJEREREVCkG+i6AiIiIqC5gqCIiIiLSAYYqIiIiIh1gqCIiIiLSAYYqIiIiIh1gqCIiIiLSAYYqIiIiIh1gqCIiIiLSAYYqIiIiIh1gqCIinbl+/TokEgl+/PFHfZdClfDmm2/C3d1d32UQ1ToMVURUJj/++CMkEglOnz6t71KqzOzZsyGRSDQvIyMjuLu7Y/z48cjIyNB3eURUwxnquwAiqjvc3NyQm5sLIyMjfZdSKatXr4aFhQWys7Nx6NAhLF++HDExMTh27Ji+S6sW3333HVQqlb7LIKp1GKqISGckEglMTEz0XcZT5eTkwMzM7KltQkJC0KhRIwDAmDFjMGzYMGzZsgX//PMPnnvuueooEwCgUqlQUFBQ7d9pbQ/FRPrC7j8i0pmSxlS9+eabsLCwQEpKCoKCgmBhYYHGjRvj448/hlKp1DpepVJhyZIl8PT0hImJCezt7TFmzBg8fPhQq93u3bsxYMAAODk5QSaToVmzZvjiiy+eOF/Pnj3Rrl07REdHo3v37jAzM8Mnn3xS7s/l7+8PALh69arW9qioKPTt2xfW1tYwMzNDjx49cPz48SeOP3LkCDp37gwTExM0a9YMa9eu1XQ1PkoikWDcuHHYsGEDPD09IZPJ8McffwAAUlJS8NZbb8He3h4ymQyenp744YcfnrjW8uXL4enpCTMzM9ja2qJz587YuHGjZn9mZiYmTJgAd3d3yGQy2NnZ4cUXX0RMTIymTUljqrKzszFp0iS4urpCJpOhVatWWLx4MYQQJX6GXbt2oV27dppaiz8HUV3GO1VEVOWUSiUCAwPh6+uLxYsX4+DBg/j666/RrFkzvP/++5p2Y8aMwY8//ohRo0Zh/PjxSEpKwooVKxAbG4vjx49r7qD8+OOPsLCwwMSJE2FhYYHDhw9j5syZUCgUWLRokda1Hzx4gH79+mHYsGF47bXXYG9vX+76r1+/DgCwtbXVbDt8+DD69euHTp06YdasWTAwMMD69evxwgsvIDIyUnNHKzY2Fn379oWjoyPmzJkDpVKJzz//HI0bNy7xWocPH8bWrVsxbtw4NGrUCO7u7khLS8Pzzz+vCSyNGzfGvn37MHr0aCgUCkyYMAGAuttu/PjxCAkJQVhYGPLy8nDmzBlERUVh+PDhAID33nsP27dvx7hx49C2bVs8ePAAx44dw8WLF+Hj41NiTUIIvPzyy4iIiMDo0aPRsWNH7N+/H5MnT0ZKSgq+/fZbrfbHjh1DeHg4PvjgA1haWmLZsmUYPHgwbt68iYYNG5b7+yeqNQQRURmsX79eABCnTp0qtU1SUpIAINavX6/ZNnLkSAFAfP7551ptvb29RadOnTTvIyMjBQCxYcMGrXZ//PHHE9tzcnKeuPaYMWOEmZmZyMvL02zr0aOHACDWrFlTps84a9YsAUAkJCSIe/fuievXr4sffvhBmJqaisaNG4vs7GwhhBAqlUq0aNFCBAYGCpVKpVWXh4eHePHFFzXbBg4cKMzMzERKSopmW2JiojA0NBSP/xUMQBgYGIjz589rbR89erRwdHQU9+/f19o+bNgwYW1trfk+Bg0aJDw9PZ/6Ga2trcXYsWOf2mbkyJHCzc1N837Xrl0CgPjyyy+12oWEhAiJRCKuXLmi9RmMjY21tsXHxwsAYvny5U+9LlFtx+4/IqoW7733ntZ7f39/XLt2TfN+27ZtsLa2xosvvoj79+9rXp06dYKFhQUiIiI0bU1NTTX/nJmZifv378Pf3x85OTm4dOmS1nVkMhlGjRpVrlpbtWqFxo0bw93dHW+99RaaN2+Offv2acZixcXFITExEcOHD8eDBw80tWZnZ6N37944evQoVCoVlEolDh48iKCgIDg5OWnO37x5c/Tr16/Ea/fo0QNt27bVvBdCYMeOHRg4cCCEEFrfTWBgIORyuabrzsbGBrdu3cKpU6dK/Ww2NjaIiorC7du3y/x97N27F1KpFOPHj9faPmnSJAghsG/fPq3tAQEBaNasmeZ9+/btYWVlpfXvm6guYvcfEVU5ExOTJ7q7bG1ttcZKJSYmQi6Xw87OrsRz3L17V/PP58+fx2effYbDhw9DoVBotZPL5VrvnZ2dYWxsXK56d+zYASsrK9y7dw/Lli1DUlKSVpBLTEwEAIwcObLUc8jlcuTl5SE3NxfNmzd/Yn9J2wDAw8ND6/29e/eQkZGBdevWYd26dSUeU/zdTJ06FQcPHsRzzz2H5s2bo0+fPhg+fDi6du2qabtw4UKMHDkSrq6u6NSpE/r374833ngDTZs2LfWz3LhxA05OTrC0tNTa3qZNG83+RzVp0uSJczz+75uoLmKoIqIqJ5VKn9lGpVLBzs4OGzZsKHF/cSjLyMhAjx49YGVlhc8//xzNmjWDiYkJYmJiMHXq1CemAng0DJVV9+7dNU//DRw4EF5eXhgxYgSio6NhYGCgucaiRYvQsWPHEs9hYWGBvLy8cl/78XqLr/Xaa6+VGuLat28PQB1yEhISsGfPHvzxxx/YsWMHVq1ahZkzZ2LOnDkAgKFDh8Lf3x87d+7En3/+iUWLFmHBggUIDw8v9e5ZeZX271s8NqidqK5hqCKiGqFZs2Y4ePAgunbt+tQgdOTIETx48ADh4eHo3r27ZntSUlKV1GVhYYFZs2Zh1KhR2Lp1K4YNG6bp2rKyskJAQECpx9rZ2cHExARXrlx5Yl9J20rSuHFjWFpaQqlUPvVaxczNzfHqq6/i1VdfRUFBAYKDg/HVV19h+vTpmqkZHB0d8cEHH+CDDz7A3bt34ePjg6+++qrUUOXm5oaDBw8iMzNT625VcVerm5tbmT4LUV3HMVVEVCMMHToUSqUSX3zxxRP7ioqKNDOaF98FefSuR0FBAVatWlVltY0YMQIuLi5YsGABAKBTp05o1qwZFi9ejKysrCfa37t3T1NrQEAAdu3apTWG6cqVK0+MQyqNVCrF4MGDsWPHDpw7d67UawHqJx0fZWxsjLZt20IIgcLCQiiVyie6R+3s7ODk5IT8/PxSa+jfvz+USiVWrFihtf3bb7+FRCLR2R0uotqOd6qIqFx++OGHEuccCgsLq9R5e/TogTFjxmDevHmIi4tDnz59YGRkhMTERGzbtg1Lly5FSEgIunTpAltbW4wcORLjx4+HRCLBL7/8UqVdS0ZGRggLC8PkyZPxxx9/oG/fvvj+++/Rr18/eHp6YtSoUXB2dkZKSgoiIiJgZWWF3377DYB66Zs///wTXbt2xfvvv68JJ+3atUNcXFyZrj9//nxERETA19cX77zzDtq2bYv09HTExMTg4MGDSE9PBwD06dMHDg4O6Nq1K+zt7XHx4kWsWLECAwYMgKWlJTIyMuDi4oKQkBB06NABFhYWOHjwIE6dOoWvv/661OsPHDgQvXr1wqefforr16+jQ4cO+PPPP7F7925MmDBBa1A6Ub2mxycPiagWKZ5SobRXcnJyqVMqmJubP3G+4ukLHrdu3TrRqVMnYWpqKiwtLYWXl5eYMmWKuH37tqbN8ePHxfPPPy9MTU2Fk5OTmDJliti/f78AICIiIjTtevTo8cwpBkqq6d69e0/sk8vlwtraWvTo0UOzLTY2VgQHB4uGDRsKmUwm3NzcxNChQ8WhQ4e0jj106JDw9vYWxsbGolmzZuL7778XkyZNEiYmJlrtAJQ63UFaWpoYO3ascHV1FUZGRsLBwUH07t1brFu3TtNm7dq1onv37pp6mjVrJiZPnizkcrkQQoj8/HwxefJk0aFDB2FpaSnMzc1Fhw4dxKpVq7Su9fiUCkIIkZmZKT766CPh5OQkjIyMRIsWLcSiRYu0ppR42mdwc3MTI0eOLPGzEdUVEiE4cpCIqLoFBQXh/PnzmicJiaj245gqIqIqlpubq/U+MTERe/fuRc+ePfVTEBFVCd6pIiKqYo6OjnjzzTfRtGlT3LhxA6tXr0Z+fj5iY2PRokULfZdHRDrCgepERFWsb9++2LRpE1JTUyGTyeDn54e5c+cyUBHVMbxTRURERKQDHFNFREREpAMMVUREREQ6wDFV1UilUuH27duwtLSERCLRdzlERERUBkIIZGZmwsnJCQYGpd+PYqiqRrdv34arq6u+yyAiIqIKSE5OhouLS6n7GaqqUfFCpMnJybCystJzNURERFQWCoUCrq6uWguKl4ShqhoVd/lZWVkxVBEREdUyzxq6w4HqRERERDrAUEVERESkAwxVRERERDrAUEVERESkAwxVRERERDrAUEVERESkAwxVRERERDrAUEVERESkAwxVRERERDrAUEVERESkAwxVRERERDrAUEVERESkAwxVREREVOspVQKHL6XptQaGKiIiIqrV7mbm4Y0fovDWj6fxa/xtvdVhqLcrExEREVXS8Sv3EbY5Dvez8mFqJIUQQm+1MFQRERFRraNUCSw9eBnLI65ACKCVvSVWDPdGC3tLvdXEUEVERES1SpoiD+M3xSIqKR0AMOw/rpg10BOmxlK91sVQRURERLXGkYS7mLg1HunZBTA3lmJusBcGdXTWd1kAGKqIiIioFihSqvD1gctYfeQqAKCNoxVWDvdG08YWeq7sXwxVREREVHMplbj9518YfyoTp3PUseW155vgswFtYWKk3+6+x3FKBSIiIqqZwsNxqOtA9P8jDadzDGGZn40Vkd/hS1VijQtUAO9UERERUQ1UsD0cC1fvxfc9xwIAvO4kYsWvC+AmTwNCfgW2bweCg9WNlUogMhK4cwdwdAT8/QFp9Ycu3qkiIiKiGiX5fiaG/pGC7//zCgDgzdO/YvuGyXDLSAWK56GaMEEdpsLDAXd3oFcvYPhw9Z/u7urt1YyhioiIiGqM/edTMWDJUcQ1agqrvCysDf8Ssw+tg0xZ9G8jIYDkZOCrr4CQEODWLe2TpKSot1dzsJIIfU49Ws8oFApYW1tDLpfDyspK3+UQERHVGPlFSszbewk/nrgOAOh4+xKW714IV8Xd0g9q0ABITy95n0QCuLgASUmV7gos6+8371QRERGRXt14kI2Q1Sc1geodd0Ns3TDt6YEKKD1QAf/ezYqM1F2hz8CB6kRERKQ3v5+5g2k7ziAzvwg2Zkb4ekgH9G7ZCPjKQd2NV1KHmkQC2No+PVQVu3NH90WXgneqiIiIqNrlFSrx2a6zGLsxBpn5RejsZou94/3Ru429urtu6VJ1Q4lE+8Di92FhZbuQo6Puin4GhioiIiKqVtfuZeGVVSfwv79vAgA+6NkMm959Hk42pv82Cg5WT5vg/NgSNC4u6u2ffqr+58dDVzGJBHB1VU+vUE30GqqOHj2KgQMHwsnJCRKJBLt27dLsKywsxNSpU+Hl5QVzc3M4OTnhjTfewO3bt7XOkZ6ejhEjRsDKygo2NjYYPXo0srKytNqcOXMG/v7+MDExgaurKxYuXPhELdu2bUPr1q1hYmICLy8v7N27V2u/EAIzZ86Eo6MjTE1NERAQgMTERN19GURERPXA7rgUDFx+DBfvKNDA3Bg/vfUcpvRtDSNpCZEkOBi4fh2IiAA2blT/mZSk3l6Wu1lLllTrfFV6DVXZ2dno0KEDVq5c+cS+nJwcxMTEYMaMGYiJiUF4eDgSEhLw8ssva7UbMWIEzp8/jwMHDmDPnj04evQo3n33Xc1+hUKBPn36wM3NDdHR0Vi0aBFmz56NdevWadqcOHECoaGhGD16NGJjYxEUFISgoCCcO3dO02bhwoVYtmwZ1qxZg6ioKJibmyMwMBB5eXlV8M0QERHVLbkFSkzbcQZhm+OQXaCEr0cD7AvzR4+WjZ9+oFQK9OwJhIaq/3w0JD3rblbx5KDVRdQQAMTOnTuf2uaff/4RAMSNGzeEEEJcuHBBABCnTp3StNm3b5+QSCQiJSVFCCHEqlWrhK2trcjPz9e0mTp1qmjVqpXm/dChQ8WAAQO0ruXr6yvGjBkjhBBCpVIJBwcHsWjRIs3+jIwMIZPJxKZNm8r8GeVyuQAg5HJ5mY8hIiKq7RLTFKLPN38Jt6l7hPu0PeLr/ZdEYZFSdxcoKhIiIkKIjRvVfxYV6e7couy/37VqTJVcLodEIoGNjQ0A4OTJk7CxsUHnzp01bQICAmBgYICoqChNm+7du8PY2FjTJjAwEAkJCXj48KGmTUBAgNa1AgMDcfLkSQBAUlISUlNTtdpYW1vD19dX06Yk+fn5UCgUWi8iIqL6ZHv0LQxcfhwJaZloZCHDL2/5YmKfVjAsqbuvop52N6sa1ZpQlZeXh6lTpyI0NFQz8VZqairs7Oy02hkaGqJBgwZITU3VtLG3t9dqU/z+WW0e3f/ocSW1Kcm8efNgbW2tebm6upbrMxMREdVWOQVFmLQ1Hh9vi0duoRJdmzfE3rBu6Naikb5LqzK1IlQVFhZi6NChEEJg9erV+i6nzKZPnw65XK55JScn67skIiKiKpeQmomXVxzHjphbMJAAE19siZ/f8oWdpYm+S6tSNX7yz+JAdePGDRw+fFhrengHBwfcvas922pRURHS09Ph4OCgaZOWlqbVpvj9s9o8ur94m+Mj812kpaWhY8eOpdYuk8kgk8nK83GJiIhqLSEEtp5Oxszd55FfpIK9lQxLh3nj+aYN9V1atajRd6qKA1ViYiIOHjyIhg21/6X4+fkhIyMD0dHRmm2HDx+GSqWCr6+vps3Ro0dRWFioaXPgwAG0atUKtra2mjaHDh3SOveBAwfg5+cHAPDw8ICDg4NWG4VCgaioKE0bIiKi+iwrvwgfbYnD1B1nkV+kQveWjbF3vH+9CVSAnu9UZWVl4cqVK5r3SUlJiIuLQ4MGDeDo6IiQkBDExMRgz549UCqVmvFLDRo0gLGxMdq0aYO+ffvinXfewZo1a1BYWIhx48Zh2LBhcHJyAgAMHz4cc+bMwejRozF16lScO3cOS5cuxbfffqu5blhYGHr06IGvv/4aAwYMwObNm3H69GnNtAsSiQQTJkzAl19+iRYtWsDDwwMzZsyAk5MTgoKCqu8LIyIiqoEu3FZg3MYYXLufDamBBJP6tMR73ZvBwKCUiTnrKp0+c1hOERERAsATr5EjR4qkpKQS9wEQERERmnM8ePBAhIaGCgsLC2FlZSVGjRolMjMzta4THx8vunXrJmQymXB2dhbz589/opatW7eKli1bCmNjY+Hp6Sl+//13rf0qlUrMmDFD2NvbC5lMJnr37i0SEhLK9Xk5pQIREdUlKpVK/HLyumjx6V7hNnWPeH7uQXEq6YG+y9K5sv5+S4QoaaVCqgoKhQLW1taQy+VaY8OIiIj0SqkEIiPViw87OqqXdnnGtASKvEJMDz+L38+oFyzu3doOi4d0gK258VOPq43K+vtd4weqExERURUKD1cvTnzr1r/bXFzUS8CUMiP52VtyjNsUgxsPcmBoIMG0fq0xupsHJKWtw1dPMFQRERHVV+HhQEgI8HinVUqKevtjS70IIfDTieuYu/cSCpQqONuYYsVwb3g3sa3mwmsmdv9VI3b/ERFRjaFUAu7u2neoHiWRqO9YJSUBUinkOYWYsiMe+8+rpyDq09Yei0I6wNrMqPpq1hN2/xEREVHpIiNLD1SA+u5VcjIQGYm4Zh0xbmMMbj3MhZFUgk/6t8GbXdzrfXff4xiqiIiI6qM7d57ZRAD475kHmP/nCRSpBJo0MMOK4d5o72JT5eXVRgxVRERE9dEjK4SUJMPEAh/3/wgHb5sAEBjg5Yh5g71gZVL3u/sqiqGKiIioPvL3V4+ZSkl5YqB6tHNrfPjyVNy2agxjQwPMeKktXvNtwu6+Z6jRy9QQERFRFZFK1dMmAOpB6QBUkGC172AMHb4At60aw0Omws4PuuD1590YqMqAoYqIiKi+Cg5WT5vg7IwHplYYNWQWFvQcBaWBFC83UOK3T/rB08la31XWGuz+IyIiqs+CgxHV3h/jfzmFtHwBmQEw52VPvOrLu1PlxVBFRERUTylVAqsiruDbg5ehEkCzxuZYOcIHrR04l2JFMFQREREVq8AaeLXVvcx8fLQlDseu3AcABPs444tB7WAuYzSoKH5zREREQIXWwKutTly5j/Gb43A/Kx+mRlJ8PsgTQzq76rusWo+hioiIqJxr4NVWSpXA0kOJWH44EUIALe0tsHK4D1rYW+q7tDqBa/9VI679R0RUA5VzDbzaKk2Rh7DNsfj7WjoA4NXOrpj9sidMjWvvZ6ouXPuPiIioLMqxBh569qy2snTpr8v3MHFLHB5kF8DMWIq5r3ghyNtZ32XVOQxVRERUv5VhDbxytatBipQqfHPgMlYduQoAaONohZXDvdG0scWzD65Hg/Z1haGKiIjqt2esgVfudjXEHXkuxm+KxanrDwEAI3ybYMZLbWFiVIZgVI8G7esSx1RVI46pIiKqgYrHVJWwBh6AWjmm6vClNEzaGo+HOYWwkBli/mAvvNTeqWwHlzZov3gi0DoyaL88yvr7zWVqiIiofithDTyN4vdLltSKQFWoVGHu3ot468fTeJhTiHbOVvh9fLeyByqlUn2HqqRwWbxtwgR1O3oCQxUREdEja+BpcXGpNXdmbj3MwdC1J7Hu6DUAwJtd3LHj/S5wa2he9pOUZ9A+PYFjqoiIiAB1cBo0qFYOzt5/PhWTt8VDkVcESxNDLAppj77tKjAGrA4P2q8ODFVERETFpNJaNW1CQZEK8/ZdxPrj1wEAHVxtsCLUG64NzCp2wjo6aL+6MFQRERHVQjcf5GDcphicuSUHALzdzQNT+raGsWElRvb4+6u7PJ81aN/fv+LXqMMYqoiIiGqZvWfvYOr2M8jML4K1qRG+HtIBAW3tK3/i4kH7ISHqAPVosKplg/b1gQPViYiIaom8QiVm7DqHDzbEIDO/CJ3cbLE3zF83gapYHRi0ry+8U0VERFQLJN3PxtgNMbhwRwEAeK9HM0zq0xJG0iq4P1KLB+3rE0MVERFRDbc7LgWfhJ9FdoESDcyN8c3QDujZyq5qL1rLBu3XBAxVRERE1aWc6+nlFSox57fz2PRPMgDgOfcGWBbqDQdrk+qqmMqBoYqIiKg6lHM9vSt3szB2QwwS0jIhkQDjejVHWO8WMKyK7j7SCYYqIiKiqlbaenopKertjw0A3xF9C5/tOofcQiUaWRhjyave6NaiUTUXTeXFBZWrERdUJiKqh4oXbC5t+ZdHFmzOUQrM3H0e26PVbbs0a4glr3aEnRW7+/SprL/fvFNFRERUlcq4nt7lvX9hbKIUiXezYCABwnq3xLgXmkNqICn9WKpRGKqIiIiq0jPWyRMAtrZ/EbNO5CBPSGBnKcPSYd7wa9aweuojnWGoIiIiqkpPWScvy9gUn/X5ALs8ewEC8G/RCN++2hGNLGTVWCDpCkMVERFRVSplPb0LjT0wbtBUXGvoAqlKiYl9W+P9ni1gwO6+WovPZRIREVWl4vX0AEAigQDwv479EPTG17jW0AUOmfex2VOJsS+0ZKCq5RiqiIiIqtr/r6eX6dYMH748BZ8FjkWBoTFeSDmLvd0t8Z+Rr+i7QtIBdv8RERFVg7PP9ca499fhRnoODCEwpZUMb3/xMQyM+FNcV/DfJBERURUSQuCnE9cxd+8lFChVcLYxxbJQb3Rys9V3aaRjDFVERERVRJ5biKnbz+CP86kAgBfb2mNxSAdYmxnpuTKqCgxVREREVSAuOQPjNsbg1sNcGEklmN6vDUZ1dYdEwsHodRVDFRERkQ4JIfDfY0mYv+8SilQCrg1MsSLUBx1cbSp+UqVSPTP7nTvqea/8/dVPFVKNwlBFRESkIxk5Bfh4WzwOXrwLAOjv5YD5g9vDyqQS3X3h4UBYmPZSNy4u6mkaHlmEmfSPoYqIiEgHom+k48ONsbgtz4Ox1AAzXmqD1553q1x3X3g4EBKiNWkoAPVEoiEhwPbtDFY1iESIx/9NUVUp6yrXRERUe6hUAusir2HR/gQoVQLuDc2wYrgP2jlbV+7ESiXg7l76YswSifqOVVISuwKrWFl/v3mnioiIqIIeZOVj0rZ4HEm4BwB4uYMT5gZ7wUKmg5/XyMjSAxWgvnuVnKxu17Nn5a9HlcZQRUREVAFR1x5g/OZYpCnyITM0wOyXPTHsP666e7rvzh3dtqMqx1BFRERUDiqVwKojV/DNgctQCaBZY3OsHOGD1g46Htbh6KjbdlTlGKqIiIjK6F5mPiZujUNk4n0AQLCPM74Y1A7muujue5y/v3rMVErKkwPVgX/HVPn76/7aVCEMVURERGVw4sp9hG2Jw73MfJgaSfH5IE8M6exadReUStXTJoSEqAPUo8GquItxyRIOUq9BDPRdABERUU2mVAl8e+AyRvw3Cvcy89HS3gK/jutatYGqWHCwetoEZ2ft7S4unE6hBuKdKiIiolLcVeRh/OZY/H0tHQDwamdXzH7ZE6bG1Xh3KDgYGDSIM6rXAgxVREREJTh6+R4+2hKHB9kFMDOWYu4rXgjydn72gVVBKuW0CbUAQxUREdEjipQqfHvwMlYduQohgDaOVlg53BtNG1vouzSq4RiqiIiI/t8deS7CNsXhn+vq7r4Rvk0w46W2MDFiVxs9G0MVERERgIhLdzFxaxwe5hTCQmaI+YO98FJ7J32XRbUIQxUREdVrhUoVFu9PwNqj1wAA7ZytsCLUB+6NzPVcGdU2DFVERFRvpWTk4sONMYi5mQEAeLOLO6b3bw2ZIbv7qPwYqoiIqO5RKp85BcGBC2n4eFs85LmFsDQxxKKQ9ujbjku+UMUxVBERUd0SHg6EhQG3bv27zcVFPTt5cDAKilSYv+8SfjieBADo4GKNFcN94NrATE8FU13BUEVERHVHeLh6WZfH18pLSQFCQpC8YTvGPbBD/C05AGB0Nw9M7dsaxoZcYIQqj6GKiIjqBqVSfYeqpMWHhcC+Vl0x5ZQSmcZyWJsaYfGQDnixrX3110l1FkMVERHVDZGR2l1+/y9PaoS5vUbj504vAQB8bAyw/D1/ONuYVneFVMfp9X7n0aNHMXDgQDg5OUEikWDXrl1a+4UQmDlzJhwdHWFqaoqAgAAkJiZqtUlPT8eIESNgZWUFGxsbjB49GllZWVptzpw5A39/f5iYmMDV1RULFy58opZt27ahdevWMDExgZeXF/bu3VvuWoiISI/u3Hli03UbRwx+bZEmUI35ezu2NMlgoKIqoddQlZ2djQ4dOmDlypUl7l+4cCGWLVuGNWvWICoqCubm5ggMDEReXp6mzYgRI3D+/HkcOHAAe/bswdGjR/Huu+9q9isUCvTp0wdubm6Ijo7GokWLMHv2bKxbt07T5sSJEwgNDcXo0aMRGxuLoKAgBAUF4dy5c+WqhYiI9MhR+8m9X9t0x0tvLsV5h+awzZFj/bbZmP7XjzBy4hN+VEVEDQFA7Ny5U/NepVIJBwcHsWjRIs22jIwMIZPJxKZNm4QQQly4cEEAEKdOndK02bdvn5BIJCIlJUUIIcSqVauEra2tyM/P17SZOnWqaNWqleb90KFDxYABA7Tq8fX1FWPGjClzLWUhl8sFACGXy8t8DBERlVFRkRAuLiLXSCamBY4VblP3CLepe8SQ4fPFbcuGQkgkQri6qtsRlUNZf79r7OMOSUlJSE1NRUBAgGabtbU1fH19cfLkSQDAyZMnYWNjg86dO2vaBAQEwMDAAFFRUZo23bt3h7GxsaZNYGAgEhIS8PDhQ02bR69T3Kb4OmWphYiI9EwqxZX5yxD02mJs6tgPEqHCuBObsXHTJ3DMUq/lhyVLnpivikhXauxA9dTUVACAvb32kxn29vaafampqbCzs9Pab2hoiAYNGmi18fDweOIcxftsbW2Rmpr6zOs8q5aS5OfnIz8/X/NeoVA85RMTEVFlhMfcwmcJpsix80CjXAW+/XUh/K/HqXe6uqoDVXCwPkukOq7Ghqq6YN68eZgzZ46+yyAiqtNyCoowa/d5bItWP/nn17Qhlg7pCbtXHJ86ozqRrtXYUOXg4AAASEtLg+Mjgw/T0tLQsWNHTZu7d+9qHVdUVIT09HTN8Q4ODkhLS9NqU/z+WW0e3f+sWkoyffp0TJw4UfNeoVDA1dX16R+ciKi2KMNSMFXtclomxm6IQeLdLEgkQFjvFvjwhRaQGkiAnj2rtRaiGjumysPDAw4ODjh06JBmm0KhQFRUFPz8/AAAfn5+yMjIQHR0tKbN4cOHoVKp4Ovrq2lz9OhRFBYWatocOHAArVq1gq2trabNo9cpblN8nbLUUhKZTAYrKyutFxFRnRAeDri7A716AcOHq/90d1dvrwZCCGw9nYyXVxxD4t0sNLaUYcPbvpgQ0FIdqIj0oXrGzZcsMzNTxMbGitjYWAFAfPPNNyI2NlbcuHFDCCHE/PnzhY2Njdi9e7c4c+aMGDRokPDw8BC5ubmac/Tt21d4e3uLqKgocezYMdGiRQsRGhqq2Z+RkSHs7e3F66+/Ls6dOyc2b94szMzMxNq1azVtjh8/LgwNDcXixYvFxYsXxaxZs4SRkZE4e/aspk1ZankWPv1HRHXCjh3qJ+nUc5f/+5JI1K8dO6r08ll5hWLC5ljN032vff+3uKvIq9JrUv1W1t9vvYaqiIgIAeCJ18iRI4UQ6qkMZsyYIezt7YVMJhO9e/cWCQkJWud48OCBCA0NFRYWFsLKykqMGjVKZGZmarWJj48X3bp1EzKZTDg7O4v58+c/UcvWrVtFy5YthbGxsfD09BS///671v6y1PIsDFVEVOv9/7QFTwSqR4NVFU5bcOG2XPRaHCHcpu4RHtP2iBWHE4VSqaqSaxEVK+vvt0SIkhZJoqqgUChgbW0NuVzOrkAiqp2OHFF39T1LRIROxzQJIbDxn5uY89sFFBSp4GBlgmWh3njOo4HOrkFUmrL+ftfYgepERFQDlbAUTKXalUFmXiGmh5/FnjPqc/Zs1RjfDO2IBubGzziSqHoxVBERUdk5lnGJl7K2e4ZzKXKM2xiD6w9yIDWQYEpgK7zj3xQGHIxONRBDFRERlZ2/P+DiAqSkqEdRPU4iUe/396/UZYQQ+PnkDXz1+0UUKFVwtjHFslBvdHKzrdR5iaoSQxUREZWdVAosXQqEhKgD1KPBSvL/d48quRSMPLcQ03acwb5z6hUrAtrYY/GQ9rAxY3cf1Ww1dp4qIiKqoYKDge3bAWdn7e0uLurtlVgKJj45Ay8tj8S+c6kwkkow46W2+O6NTgxUVCvwThUREZVfcDAwaJDOZlQXQuCH49cxf99FFCoFXBuYYkWoDzq42ui2bqIqxFBFREQVI5XqZNqEjJwCfLztDA5eVC8X1q+dA+YPbg9rU6NKn5uoOjFUERGR3kTfeIgPN8bgtjwPxlIDfPZSG7z+vBskEj7dR7UPQxUREVU7lUpgXeQ1LNqfAKVKwK2hGVYO90E7Z2t9l0ZUYQxVRERUrdKzCzBxaxyOJNwDALzU3hHzgr1gacLuPqrdGKqIiKja/JOUjvGbYpGqyIOxoQFmD/RE6HOu7O6jOoGhioioOiiVOntSrjZSqQRWHbmCbw5chkoATRubY+VwH7Rx5DqoVHcwVBERVbXwcCAsDLh1699tLi7qSTQrMadTbXEvMx8Tt8YhMvE+ACDY2xlfBLWDuYw/QVS38H/RRERVKTxcPfv440u6pKSot1dyssya7sSV+wjbEod7mfkwMTLA54PaYUgnF3b3UZ0kEaKkxZuoKigUClhbW0Mul8PKire8ieo8pRJwd9e+Q/Wo4nXykpLqXFegUiWw7FAilh1OhBBACzsLrBzhg5b2lvoujajcyvr7zTtVRERVJTKy9EAFqO9eJSer2+lgEs2a4q4iD2Gb43Dy2gMAwNDOLpjzcjuYGtet4Ej0OIYqIqKqcueObtvVApGJ9/DRljjczyqAmbEUXwa1Q7CPi77LIqoWDFVERFXF0VG37WqwIqUKSw4mYuWRKxACaO1giRXDfdDczkLfpRFVG4YqIqKq4u+vHjOVkvLkQHXg3zFV/v7VX5sO3ZHnImxTHP65ng4AGO7bBDNfagsTI3b3Uf3CUEVEVFWkUvW0CSEh6gD1aLAqfvptyZJaPUg9IuEuJm6Jw8OcQljIDDE32Asvd3DSd1lEemGg7wKIiOq04GD1tAnOztrbXVxqznQKSiVw5AiwaZP6T6XymYcUKlWYt/ciRq0/hYc5hfB0ssKeD7sxUFG9xjtVRERVLTgYGDSoZs6oXoGJSVMycvHhxhjE3MwAALzh54ZP+rdhdx/Ve5ynqhpxnioiqlFKm5i0uGuyhDtpBy6k4eNt8ZDnFsLSxBALB7dHP6/aP9Ce6GnK+vvNUFWNGKqIqMYo58SkBUUqzN93CT8cTwIAdHCxxvJQHzRpaFZ9NRPpCSf/JCKi0pVjYtLk9s9h3MYYxN+SAwBGd/PA1L6tYWzIYblEj2KoIiKqj8o44egfF+9h8pFIZOYVwdrUCIuHdMCLbe2ruDii2omhioioPnrGhKN5UiPM6/UWfrphBqAIPk1ssCzUGy627O4jKg1DFRFRffSUiUmv2zhibNA0nLdvBgAY06MpPu7TCkZSdvcRPQ3/CyEiqo+KJyYF/n3aD8Bvrf3x0ptLcd6+GWwNBda/+R9M79eGgYqoDPhfCRFRffXIxKR5hsaYHjgWHw6aiiyZGZ6zVGHv5N7o1dpO31US1Rrs/iMiqs+Cg3G1S2+M/e8JXMpUQQJgbM+mmPBiKxjy7hRRuTBUERHVYztjb+HTneeQU6BCIwtjfPtqR/i3aKzvsohqJYYqIqJ6KLdAiZm7z2FbtHquKr+mDbF0WEfYWZnouTKi2ouhioionrmclomxG2KQeDcLEgkQ1rsFPnyhBaQGkmcfTESlYqgiIqonhBDYFn0LM3efQ16hCo0tZVg6rCO6NGuk79KI6gSGKiKieiA7vwif7TqHnbEpAAD/Fo3wzdCOaGwp03NlRHUHQxURUR138Y4CYzfG4Nq9bBhIgIkvtsQHPZvDgN19RDrFUEVEVEcJIbDpn2TM/u08CopUcLAywbJQbzzn0UDfpRHVSQxVRER1UGZeIT7ZeQ6/xd8GAPRs1RjfDO2IBubGeq6MqO5iqCIiqmPOpcgxbmMMrj/IgdRAgimBrfCOf1N29xFVMYYqIqI6QgiBX/6+gS/3XESBUgVnG1MsC/VGJzdbfZdGVC8wVBER1QHy3EJM23EG+86lAgAC2thj8ZD2sDFjdx9RdWGoIiKq5eKTMzBuUwyS03NhJJVgWr82eKurOyQSdvcRVSeGKiKiWkoIgR+OX8f8fRdRqBRwsTXFyuE+6OBqo+/SiOolhioiolooI6cAH287g4MX0wAAfT0dsCCkPaxNjfRcGVH9xVBFRFTLRN94iPGbYpGSkQtjqQE+e6kNXn/ejd19RHrGUEVEVEuoVALfRV7Dov0JKFIJuDU0w8rhPmjnbK3v0ogIgEFFDoqIiNB1HURE9BTp2QUY/dMpzNt3CUUqgZfaO2LPh90YqIhqkAqFqr59+6JZs2b48ssvkZycrOuaiIjoEf8kpaP/0khEJNyDsaEB5r7iheWh3rA04fgpopqkQqEqJSUF48aNw/bt29G0aVMEBgZi69atKCgo0HV9RET1lkolsDLiCkK/+xupijw0bWyO3WO7YrhvE46fIqqBJEIIUZkTxMTEYP369di0aRMAYPjw4Rg9ejQ6dOigkwLrEoVCAWtra8jlclhZWem7HCKqwe5n5eOjLXGITLwPAHjF2xlfBrWDuYxDYYmqW1l/vysdqgDg9u3bWLduHebPnw9DQ0Pk5eXBz88Pa9asgaenZ2VPX2cwVBFRWZy4eh9hm+NwLzMfJkYG+HxQOwzp5MK7U0R6Utbf7wp1/wFAYWEhtm/fjv79+8PNzQ379+/HihUrkJaWhitXrsDNzQ1Dhgyp6OmJiOodpUpgycHLeO37KNzLzEcLOwv8Oq4bhnZ2ZaAiqgUqdKfqww8/xKZNmyCEwOuvv463334b7dq102qTmpoKJycnqFQqnRVb2/FOFZGeKJVAZCRw5w7g6Aj4+wNSqb6r0nJXkYcJW+Jw4uoDAMCQTi6YM8gTZsbs7iPSt7L+flfov9YLFy5g+fLlCA4OhkwmK7FNo0aNOPUCEelfeDgQFgbcuvXvNhcXYOlSIDhYf3U9IjLxHj7aEof7WQUwM5biy6B2CPZx0XdZRFRO5Q5VhYWFcHNzw/PPP19qoAIAQ0ND9OjRo1LFERFVSng4EBICPH5DPiVFvX37dr0GqyKlCksOJmLlkSsQAmjtYIkVw33Q3M5CbzURUcWVe0yVkZERduzYURW1EBHpjlKpvkNV0giH4m0TJqjb6UGqPA/Dv4vCigh1oBru2wS7xnZloCKqxSo0UD0oKAi7du3ScSlERDoUGand5fc4IYDkZHW7ahaRcBf9l0Xin+vpsJAZYlmoN+a+4gUTo5o1zouIyqdCY6patGiBzz//HMePH0enTp1gbm6utX/8+PE6KY6IqMLu3NFtOx0oVKqw+M8ErP3rGgDA08kKK4b7wKOR+TOOJKLaoEJP/3l4eJR+QokE165dq1RRdRWf/iOqRkeOAL16PbtdRATQs6fur//YE4cpXp0xfusZRN94CAB4w88Nn/Rvw7tTRLVAlT79l5SUVOHCiIiqhb+/+im/lJSSx1VJJOr9/v66v/ZjTxwebPYcJg2cBLnMHJYyQywIaY/+Xo66vy4R6VWFJ/8kIqrRpFL1tAmAOkA9qvj9kiW6n6+q+InDW7dQYGCIL3uNxtshMyGXmaPDncv4vVU2AxVRHVXhZWpu3bqFX3/9FTdv3nxiIeVvvvlGJ8XVNez+I9KDkuapcnVVBypdT6egVALu7sCtW0i2tse4l6cg3qkVAOCtU7sw7a+fYOzkACQl1bjJR4modFXa/Xfo0CG8/PLLaNq0KS5duoR27drh+vXrEELAx8enwkUTEelccDAwaFD1zKj+/08c/tHSD5P7hSHTxAJWeVlY/Pu36HMlSt2m+InDqhjHRUR6VaFQNX36dHz88ceYM2cOLC0tsWPHDtjZ2WHEiBHo27evrmskIqocqbRaQkx+yh3MDRiDnzoNBAB4p1zC8l8XwEVxT7thNT5xSETVp0Jjqi5evIg33ngDgHrm9NzcXFhYWODzzz/HggULdFacUqnEjBkz4OHhAVNTUzRr1gxffPEFHu2xFEJg5syZcHR0hKmpKQICApCYmKh1nvT0dIwYMQJWVlawsbHB6NGjkZWVpdXmzJkz8Pf3h4mJCVxdXbFw4cIn6tm2bRtat24NExMTeHl5Ye/evTr7rERUu12/n43BN2w0gWrM39uxdePUJwMVoL5bRkR1ToVClbm5uWYclaOjI65evarZd//+fd1UBmDBggVYvXo1VqxYgYsXL2LBggVYuHAhli9frmmzcOFCLFu2DGvWrEFUVBTMzc0RGBiIvLw8TZsRI0bg/PnzOHDgAPbs2YOjR4/i3Xff1exXKBTo06cP3NzcEB0djUWLFmH27NlYt26dps2JEycQGhqK0aNHIzY2FkFBQQgKCsK5c+d09nmJqHbac+Y2Xlp+DOcUKtjmZWH99tmY/tePMFI9Nlu7RKIez1UVTxwSkf6JChg0aJBYt26dEEKISZMmiebNm4svv/xS+Pj4iN69e1fklCUaMGCAeOutt7S2BQcHixEjRgghhFCpVMLBwUEsWrRIsz8jI0PIZDKxadMmIYQQFy5cEADEqVOnNG327dsnJBKJSElJEUIIsWrVKmFrayvy8/M1baZOnSpatWqleT906FAxYMAArVp8fX3FmDFjyvx55HK5ACDkcnmZjyGimiu3oEh8En5GuE3dI9ym7hEhq4+L25t2CCGRqF/qyRzUr+JtO3bou2wiKqey/n5X6E7VN998A19fXwDAnDlz0Lt3b2zZsgXu7u7473//q7PA16VLFxw6dAiXL18GAMTHx+PYsWPo168fAPV8WampqQgICNAcY21tDV9fX5w8eRIAcPLkSdjY2KBz586aNgEBATAwMEBUVJSmTffu3WFsbKxpExgYiISEBDx8+FDT5tHrFLcpvk5J8vPzoVAotF5EVDdcvZeFoJXHsSHqJiQSYGyvZtj0zvNwHBasXqjZ2Vn7ABcXvS/gTERVq0ID1Zs2bar5Z3Nzc6xZs0ZnBT1q2rRpUCgUaN26NaRSKZRKJb766iuMGDECAJCamgoAsLe31zrO3t5esy81NRV2dnZa+w0NDdGgQQOtNo/PEl98ztTUVNja2iI1NfWp1ynJvHnzMGfOnPJ+bCKq4XbFpuCTnWeRU6BEQ3NjfPtqR3Rv2fjfBtX5xCER1RgVClXVZevWrdiwYQM2btwIT09PxMXFYcKECXBycsLIkSP1Xd4zTZ8+HRMnTtS8VygUcHV11WNFRFQZuQVKzP71PLacTgYAPN+0AZYN84adlcmTjavpiUMiqjnKHKpsbW0heXxW4lKkp6dXuKBHTZ48GdOmTcOwYcMAAF5eXrhx4wbmzZuHkSNHwsHBAQCQlpYGx0eepklLS0PHjh0BAA4ODrh7967WeYuKipCenq453sHBAWlpaVptit8/q03x/pLIZDLIZLLyfmwiqoES0zIxdmMMLqdlQSIBxr/QAuN7t4DUoGx/LxJR3VfmULVkyZIqLKNkOTk5MDDQHvYllUqhUqkAqBd2dnBwwKFDhzQhSqFQICoqCu+//z4AwM/PDxkZGYiOjkanTp0AAIcPH4ZKpdKMC/Pz88Onn36KwsJCGBkZAQAOHDiAVq1awdbWVtPm0KFDmDBhgqaWAwcOwM/Pr8o+PxHVDNtOJ2Pm7vPILVSisaUMS1/tiC7NG+m7LCKqaapp4HyFjBw5Ujg7O4s9e/aIpKQkER4eLho1aiSmTJmiaTN//nxhY2Mjdu/eLc6cOSMGDRokPDw8RG5urqZN3759hbe3t4iKihLHjh0TLVq0EKGhoZr9GRkZwt7eXrz++uvi3LlzYvPmzcLMzEysXbtW0+b48ePC0NBQLF68WFy8eFHMmjVLGBkZibNnz5b58/DpP6LaJSuvUHy0JVbzdN9r3/8t7iry9F0WEVWzsv5+VzpU5ebmCrlcrvXSFYVCIcLCwkSTJk2EiYmJaNq0qfj000+1pj5QqVRixowZwt7eXshkMtG7d2+RkJCgdZ4HDx6I0NBQYWFhIaysrMSoUaNEZmamVpv4+HjRrVs3IZPJhLOzs5g/f/4T9WzdulW0bNlSGBsbC09PT/H777+X6/MwVBHVHhfvyMULiyOE29Q9wmPaHrH80GWhVKr0XRYR6UFZf78rtKBydnY2pk6diq1bt+LBgwdP7FcqlSUcRVxQmajmE0Jgy6lkzPr1PPKLVLC3kmHZMG/4Nm2o79KISE/K+vtdoXmqpkyZgsOHD2P16tWQyWT4/vvvMWfOHDg5OeHnn3+ucNFERPqUlV+EsM1xmBZ+FvlFKvRs1Rh7x/szUBFRmVRoSoXffvsNP//8M3r27IlRo0bB398fzZs3h5ubGzZs2KCZR4qIqLY4f1uOcRtjkXQ/G1IDCSYHtsK7/k1hwKf7iKiMKhSq0tPTNROAWllZaaZQ6Natm+apOyKi2kAIgf9F3cQXey6goEgFJ2sTLB/ujU5uDfRdGhHVMhXq/mvatCmSkpIAAK1bt8bWrVsBqO9g2djY6Kw4IqKqpMgrxLiNsZix6xwKilQIaGOPvWH+DFREVCEVulM1atQoxMfHo0ePHpg2bRoGDhyIFStWoLCwEN98842uayQi0rkztzIwbmMsbqbnwEgqwdS+rTG6m0eZJzkmInpchZ7+e9yNGzcQHR2N5s2bo3379rqoq07i039E+ieEwI8nrmPu3osoVAq42JpixXAfdHS10XdpRFRDVcnTfydPnsSePXu0thUPWH/vvfewYsUK5OfnV6xiIqIqJs8pxJhfojHntwsoVAr09XTA7+P9GaiISCfKFao+//xznD9/XvP+7NmzGD16NAICAjB9+nT89ttvmDdvns6LJCKqrNibD9F/WST+vJAGY6kB5rzsidWv+cDa1EjfpRFRHVGuMVVxcXH44osvNO83b94MX19ffPfddwAAFxcXzJo1C7Nnz9ZpkUREFSWEwPeRSVjwxyUUqQTcGpph5XAftHO21ndpRFTHlCtUPXz4EPb29pr3f/31F/r166d5/5///AfJycm6q46IqBIeZhfg423xOHTpLgBgQHtHzA/2gqUJ704Rke6Vq/vP3t5eM5VCQUEBYmJi8Pzzz2v2Z2ZmwsiIf1kRkf6dvp6O/ssicejSXRgbGmDuK15YEerNQEVEVaZcd6r69++PadOmYcGCBdi1axfMzMzg7++v2X/mzBk0a9ZM50USEZWVSiWw5uhVfP3nZShVAk0bmWPlCB+0ceQTt0RUtcoVqr744gsEBwejR48esLCwwE8//QRjY2PN/h9++AF9+vTReZFERGVxPysfE7fG4+jlewCAV7yd8WVQO5jLKjQlHxFRuVRoniq5XA4LCwtIpVKt7enp6bCwsNAKWvQvzlNFVHX+vvYA4zfF4m5mPkyMDPD5y+0wpLMLJ/Mkokor6+93hf7vm7V1yU/NNGjApR2IqHopVQIrI65gycHLUAmghZ0FVo7wQUt7S32XRkT1DO+JE1GtdTczDx9ticPxKw8AAEM6uWDOIE+YGfOvNiKqfvybh4hqpeNX7iNscxzuZ+XD1EiKr15ph2AfF32XRUT1GEMVEdUqSpXA0oOXsTziCoQAWjtYYsVwHzS3s9B3aURUzzFUEVGtkabIw/hNsYhKSgcAhD7XBLMGtoWJkfQZRxIRVT2GKiKqFf66fA8fbYlDenYBzI2lmDe4PV7u4KTvsoiINBiqiKhGK1Kq8PWBy1h95CoAoK2jFVaO8IFHI3M9V0ZEpI2hiohqrNsZuRi/KRanbzwEALzh54ZP+rdhdx8R1UgMVURUIx26mIZJ2+KRkVMIS5khFoS0R38vR32XRURUKoYqIqpRCopUWLT/Er6LVC/e3t7FGitCfdCkoZmeKyMiejqGKiKqMZLTc/DhpljEJWcAAN7q6oGp/VpBZsjuPiKq+RiqiKhG2H8+FZO3xUORVwQrE0MsHtIBfTwd9F0WEVGZMVQRkV7lFykxb+8l/HjiOgCgo6sNVgz3hostu/uIqHZhqCIivbnxIBvjNsbibIocAPBu96aYHNgKRlIDPVdGRFR+DFVEpBe/n7mDaTvOIDO/CLZmRvh6aAe80Npe32UREVUYQxURVau8QiW+/P0C/vf3TQBAZzdbLB/uDUdrUz1XRkRUOQxVRFRtrt3LwtiNsbh4RwEA+KBnM0x8sSUM2d1HRHUAQxURVYvdcSn4JPwssguUaGhujG9e7YgeLRvruywiIp1hqCKiKpVboMSc385j86lkAMDzTRtg6TBv2FuZ6LkyIiLdYqgioipz5W4mxm6IRUJaJiQS4MMXWiCsdwtIDST6Lo2ISOcYqoioSmyPvoUZu84ht1CJRhYyLB3WEV2bNyr7CZRKIDISuHMHcHQE/P0BKWdWJ6Kai6GKiHQqp6AIM3adx46YWwCAbs0b4dtXO6KxpazsJwkPB8LCgFu3/t3m4gIsXQoEB+u4YiIi3WCoIiKdSUjNxNiNMbhyNwsGEuCjgJb4oFfz8nX3hYcDISGAENrbU1LU27dvZ7AiohpJIsTjf3NRVVEoFLC2toZcLoeVlZW+yyHSGSEEtpxKxqxfzyO/SAV7KxmWDvPG800blu9ESiXg7q59h+pREon6jlVSErsCiajalPX3m3eqiKhSsvKL8OnOs9gddxsA0KNlY3wztAMaWpSju69YZGTpgQpQ371KTla369mzYgUTEVURhioiqrDzt+UYtzEWSfezITWQ4OM+rTCme1MYVPTpvjt3dNuOiKgaMVQRUbkJIfC/qJv4Ys8FFBSp4GhtguWh3ujs3qByJ3Z01G07IqJqxFBFROWiyCvE9B1n8ftZ9d2i3q3tsHhIB9iaG1f+5P7+6jFTKSlPDlQH/h1T5e+vfs9pF4ioBmGoIqIyO3MrA+M2xuJmeg4MDSSY1q81RnfzgESio8k8pVL1tAkhIeoA9WiwKr7GkiXqdpx2gYhqGK5iSkTPJITA+uNJGLz6BG6m58DZxhTb3vPD2/5NdReoigUHq6dNcHbW3u7i8u90CsXTLjw+qL142oXwcN3WRERUBpxSoRpxSgWqjeQ5hZiyIx77z6cBAAI97bFwcAdYmxlV7YVL69rjtAtEVM04pQIRVVrszYcYtzEWKRm5MJYa4JP+rTGyi7vu706VRCotedoETrtARDUUQxURPUEIge8jk7Dgj0soUgk0aWCGlcN94OVire/SOO0CEdVYDFVEulbLn0h7mF2Aj7fF49CluwCAAe0dMS/YC1YmVdzdV1acdoGIaiiGKiJdquVPpJ2+no4PN8XijjwPxoYGmPlSW4zwbVI93X1lVd5pF4iIqgmf/iPSlVr8RJpKJbDqyBW8uu5v3JHnoWkjc+z6oCtee96tZgUq4N9pF4B/p1ko9vi0C0RE1YihikgXlEr1HaqS7pwUb5swQd2uhnmQlY9RP57Cwj8SoFQJBHV0wq8fdkNbpxr8hGpZpl0gIqpm7P4j0oVa+kTa39ceIGxzLNIU+TAxMsCclz0xtLNrzbs7VZLgYGDQoFo9fo2I6haGKiJdqIlPpD1lwLxSJbAy4gqWHLwMlQCaNTbHqhGd0MrBsvrq04XSpl0gItIDhioiXahpT6Q9ZcD83Rf746MtcTh+5QEAIKSTCz4f5AkzY/51QERUGfxblEgXatITacUD5h+vIyUFxyd+jrDXjXG/UAJTIym+DGqHwZ1cqr4mIqJ6gAPViXShpjyRVsqAeaXEAN90HY7XXv0C9wslaGVvgd8+7MpARUSkQwxVRLpSE55IK2HAfJpFAwwf9hWWdQ2FkBggNO4P7GqvQnO7WjZ+ioiohmP3H5Eu6fuJtMcGwv/l4YOPXpqEdDNrmOfnYO7+FRh08Sgwskv11ENEVI8wVBHpmj6fSPv/gfBFEgN87f86VvsNAQC0TbuKFbsXoOnD21rtiIhIdxiqiOoSf3/cbumF8f95Hadd2gIAXov5HZ8d/h4mykIu4UJEVIUYqojqkMOJ9zExZC4ylBJY5mdj/r5lGJBwXL2zOgbM1/LFpImIKoOhiqgOKFSqsPCPS/guMgmABF5mKqzYPQ9uCXH/NnJxUQeqqhowX8sXkyYiqiyJECVNqkNVQaFQwNraGnK5HFZWNXhdNapVbj3MwbiNsYhLzgAAjOrqjmn9WkMmQfXdNSptbqziu2Ncj4+IarGy/n4zVFUjhqo6oIZ1b+0/n4rJ2+KhyCuClYkhFg3pgEBPh+otQqkE3N1LX/uweBxXUhK7AomoVirr7ze7/4jKqgZ1bxUUqTBv30WsP34dANDR1QYrhnvDxdasWusAUGsXkyYi0rUaP/lnSkoKXnvtNTRs2BCmpqbw8vLC6dOnNfuFEJg5cyYcHR1hamqKgIAAJCYmap0jPT0dI0aMgJWVFWxsbDB69GhkZWVptTlz5gz8/f1hYmICV1dXLFy48Ilatm3bhtatW8PExAReXl7Yu3dv1XxoqnmKu7ceDw8pKert4eHVVsrNBzkIWXNCE6je7d4U297z00+gAmrmYtJERHpQo0PVw4cP0bVrVxgZGWHfvn24cOECvv76a9ja2mraLFy4EMuWLcOaNWsQFRUFc3NzBAYGIi8vT9NmxIgROH/+PA4cOIA9e/bg6NGjePfddzX7FQoF+vTpAzc3N0RHR2PRokWYPXs21q1bp2lz4sQJhIaGYvTo0YiNjUVQUBCCgoJw7ty56vkySH9KWfoFwL/bJkxQt6tie8/ewYBlkThzSw4bMyP88GZnfNK/DYykevxPuaYtJk1EpC+iBps6daro1q1bqftVKpVwcHAQixYt0mzLyMgQMplMbNq0SQghxIULFwQAcerUKU2bffv2CYlEIlJSUoQQQqxatUrY2tqK/Px8rWu3atVK837o0KFiwIABWtf39fUVY8aMKfPnkcvlAoCQy+VlPoZqgIgIIdTx6emviIgqKyG3oEh8tvOscJu6R7hN3SMGrzouUh7mVNn1yqWoSAgXFyEkkpK/F4lECFdXdTsiolqorL/fNfpO1a+//orOnTtjyJAhsLOzg7e3N7777jvN/qSkJKSmpiIgIECzzdraGr6+vjh58iQA4OTJk7CxsUHnzp01bQICAmBgYICoqChNm+7du8PY2FjTJjAwEAkJCXj48KGmzaPXKW5TfJ2S5OfnQ6FQaL2oFtJz91bS/WwErzqBX/6+AQD4oGczbH73eTjZmFbJ9cqtpiwmTUSkZzU6VF27dg2rV69GixYtsH//frz//vsYP348fvrpJwBAamoqAMDe3l7rOHt7e82+1NRU2NnZae03NDREgwYNtNqUdI5Hr1Fam+L9JZk3bx6sra01L1dX13J9fqoh9Ni9tTsuBS8ti8SFOwo0NDfGT289hyl9W8NQn919JakJi0kTEelZjX76T6VSoXPnzpg7dy4AwNvbG+fOncOaNWswcuRIPVf3bNOnT8fEiRM17xUKBYNVbeTvrw4HKSklj6uqgqVf8gqVmPPbeWz6JxkA4OvRAMtCvWFvZaKza+icvheTJiLSsxodqhwdHdG2bVutbW3atMGOHTsAAA4O6vl40tLS4PjIXYK0tDR07NhR0+bu3bta5ygqKkJ6errmeAcHB6SlpWm1KX7/rDbF+0sik8kgk8nK9FmpBivu3goJUQeoR4NVFXRvXbmbhbEbYpCQlgmJBPjwhRYY/0Lzmnd3qiT6XEyaiEjPavTf0l27dkVCQoLWtsuXL8PNzQ0A4OHhAQcHBxw6dEizX6FQICoqCn5+fgAAPz8/ZGRkIDo6WtPm8OHDUKlU8PX11bQ5evQoCgsLNW0OHDiAVq1aaZ409PPz07pOcZvi61AdV03dWzuib2Hg8mNISMtEIwsZ/jfaFxNfbFk7AhURUX1XTQPnK+Sff/4RhoaG4quvvhKJiYliw4YNwszMTPzvf//TtJk/f76wsbERu3fvFmfOnBGDBg0SHh4eIjc3V9Omb9++wtvbW0RFRYljx46JFi1aiNDQUM3+jIwMYW9vL15//XVx7tw5sXnzZmFmZibWrl2raXP8+HFhaGgoFi9eLC5evChmzZoljIyMxNmzZ8v8efj0Xx1QVKR+ym/jRvWfOnqiLTu/UEzaGqd5um/4dydFmiL32QcSEVGVK+vvd40OVUII8dtvv4l27doJmUwmWrduLdatW6e1X6VSiRkzZgh7e3shk8lE7969RUJCglabBw8eiNDQUGFhYSGsrKzEqFGjRGZmplab+Ph40a1bNyGTyYSzs7OYP3/+E7Vs3bpVtGzZUhgbGwtPT0/x+++/l+uzMFRRSRJSFSLg6yPCbeoe4TFtj1h68LIoUqpKP6CKgh0REZWsrL/fXPuvGnHtP3qUEAJbTydj1q/nkVeogr2VDEuHeeP5pg1LP6iyS+U8vnZhly7AiRMcWE5E9BRc+4+oBsvKL8JnO89iV9xtAED3lo3x7dAOaGjxlAcbipfKefz/BxUvlfOssV0lBTKpVHsmeD2tZUhEVBfwTlU14p2qWubxuzo6uotz4bYC4zbG4Nr9bEgNJJjUpyXe694MBgaS0g9SKgF399IXLi6e1iEpqeQaSwtkJZ0H4NxSRESPKOvvNx8pIipJeLg6xPTqBQwfrv7T3b1SCycLIfC/v28gaNVxXLufDUdrE2x593l80LP50wMVoA53pQUq9cmB5GR1u8c9be3Cks4DVNtahkREdQlDFdHjiu/qPB5iirvZKhCsMvMKMW5TLD7bdQ4FRSr0bm2HveP90dm9QdlOUJmlcp4VyB73tIBGRESl4pgqokc97a6OEOrusQkT1DOHl7Er8OwtOcZtisGNBzkwNJBgat/WeNvfA5LH18l7msoslVPRNQmraC1DIqK6ineqiB5VmW62J5oK/Hg8CYNXn8CNBzlwtjHF1vf88E73puULVMC/S+WUdpxEAri6lrxUTkXXJKyCtQyJiOoyhiqiR1Wmm+0R8txCvP+/GMz+7QIKlCr0aWuPveP94dPEtmJ1FS+VAzwZrJ61VI6/P9DwKdM0PO5pAY2IiErFUEX0qMp0s/2/uOQMDFgWiT/Op8JIKsGsgW2x9vVOsDYzqlxt1bFUThWsZUhEVF9wSoVqxCkVaoHiqQtSUkoeV/WUqQuEEPjvsSTM33cJRSoB1wamWDncB+1dbHRfY3mmejhyRP30Ylm4uqoDFadTICLS4OSfRBVR3M0WEqIOUI8Gq6fcxcnIKcDH2+Jx8OJdAEB/eynmN06D1ZU4wFHHs5RLpUDPnmVvX9Yuzc8+A2bP5h0qIqIKYvcf0ePK2c0WfSMd/ZdG4uDFuzCWCHzxz0asnNgPVq/rZn6rSitrl2bv3gxURESVwO6/asTuv1rmGd1sKpXA2qPXsPjPBChVAh4yFVasnQDPtGva59H3LOWV6NIkIiJ2/xFV3lO62R5k5WPStngcSbgHAHi5vSPmfjoUFo8HKqDC81vpTAW7NImIqHzY/UdUTlHXHqD/skgcSbgHmaEB5gd7YamjHBbXr5Z+kL5nKa+OJweJiOo53qkiKiOlSmD1kSv45sBlqATQrLE5Vo7wQWsHK2DT8bKdRJ+zlAcHq++UVcEi0URExFBFVCb3MvPx0ZY4HLtyHwAQ7OOMLwa1g7ns//8T0sH8VtWivE8OEhFRmTFUET3DiSv3MX5zHO5n5cPUSIovgtohpJOLdqPiZWSeNRics5QTEdVZHFNFVAqlSuCbA5cx4r9RuJ+Vj5b2Fvh1XNcnAxVQuWVkiIioTmCoIipBmiIPI77/G8sOJUIIYNh/XLF7bDe0sLcs/SAOBiciqtfY/Uf0mKOX7+GjLXF4kF0Ac2MpvnrFC0Hezs8+EOBgcCKieoyhiuj/FSlV+ObAZaw6op4aoY2jFVYO90bTxhblOxEHgxMR1UsMVUQA7shzMX5TLE5dfwgAeO35JvhsQFuYGPEOExERlQ1DFdV7hy+lYdLWeDzMKYSFzBDzB3vhpfZO+i6LiIhqGYYqqrcKlSos2p+AdUfVS8t4OVtjxXBvuDU013NlRERUGzFUUb1062EOPtwUi9ibGQCAN7u4Y3r/1pAZsruPiIgqhqGK6p0/z6fi423xUOQVwcrEEAtDOqBvOwd9l0VERLUcQxXVGwVFKszbdxHrj18HAHRwtcGKUG+4NjDTb2FERFQnMFRRvXDzQQ7GbYrBmVtyAMA7/h6YHNgaxoac/5aIiHSDoYrqvL1n72Dq9jPIzC+CjZkRFod0QEBbe32XRUREdQxDFdVZeYVKfPX7Rfzy9w0AQCc3WywP9YaTjameKyMiorqIoYrqpKT72Ri3MQbnbysAAO/3bIaJL7aEkZTdfUREVDUYqqjO2R2Xgk/CzyK7QIkG5sb4ZmgH9Gxlp++yiIiojmOoojojr1CJOb+dx6Z/kgEAz3k0wLJh3nCwNtFzZUREVB8wVFGdcOVuFsZtjMGl1ExIJMC4Xs0R1rsFDNndR0RE1YShimq9HdG38Nmuc8gtVKKRhQxLXu2Ibi0a6bssIiKqZxiqqNbKKSjCzN3nsT36FgCgS7OGWDKsI+ws2d1HRETVj6GKaqXLaZkYuyEGiXezYCABJgS0xNhezSE1kOi7NCIiqqcYqqhWEUJg2+lbmPnrOeQVqmBnKcPSYd7wa9ZQ36UREVE9x1BFtUZ2fhE+3XkWu+JuAwD8WzTCt692RCMLmZ4rIyIiYqiiWuLCbQXGbYzBtfvZkBpIMKlPS7zXvRkM2N1HREQ1BENVfaFUApGRwJ07gKMj4O8PSKX6ruqZhBDY+M9NzPntAgqKVHC0NsGyUG/8x72BvksjIiLSwlBVH4SHA2FhwK1b/25zcQGWLgWCg/VX1zNk5hViWvhZ/H7mDgDghdZ2WDykAxqYG+u5MiIioicxVNV14eFASAgghPb2lBT19u3ba2SwOpcix9iNMbjxIAeGBhJM7dsao7t5sLuPiIhqLIkQj//aUlVRKBSwtraGXC6HlZVV1V9QqQTc3bXvUD1KIlHfsUpKqjFdgUII/HzyBr76/SIKlCo425hi+XBv+DSx1XdpRERUT5X195t3quqyyMjSAxWgvnuVnKxu17NntZVVGnluIaZuP4M/zqcCAF5sa4/FIR1gbWak58qIiIiejaGqLrtzR7ftqlBccgbGbYzBrYe5MJJK8En/NnizizskEnb3ERFR7cBQVZc5Ouq2XRUQQuC/x5Kw4I9LKFQKNGlghhXDvdHexUZvNREREVUEQ1Vd5u+vHjOVkvLkQHXg3zFV/v7VXxuAjJwCfLwtHgcv3gUA9PdywPzB7WFlwu4+IiKqfRiq6jKpVD1tQkiIOkA9GqyKu9WWLNHLIPXoG+n4cGMsbsvzYGxogBkvtcVrvk3Y3UdERLWWgb4LoCoWHKyeNsHZWXu7i4teplNQqQTW/HUVQ9f+jdvyPHg0MsfOD7rg9efdGKiIiKhW452q+iA4GBg0SO8zqj/IysekrXE4cvk+AOBlRynmvuMHCzOu3UdERLUfQ1V9IZXqddqEqGsPMH79SaQVSiArzMfsQ+swLH4/JItr/szuREREZcHuP6pSKpXAisOJCF2nDlTNHiRj988TERq/HxLg35ndw8P1XSoREVGlMFRRlbmXmY+R6//B4j8vQwUJgs8ewq8/fYTW92/826h48PyECeoZ4ImIiGopdv9RlThx5T7CtsThXmY+TKXA579+iyHnDpXcuIbN7E5ERFQRDFWkU0qVwNJDiVh+OBFCAC3tLbDSJhUtSgtUj6oBM7sTERFVFEMV6UyaIg9hm2Px97V0AMCrnV0x+2VPmJ6ILNsJ9DizOxERUWUxVJFOHL18Dx9ticOD7AKYGUsx9xUvBHn//9xYNXxmdyIiIl1gqKJKKVKq8O3By1h15CqEANo4WmHlcG80bWzxb6MaPLM7ERGRrvDpP6qwO/JchH73N1ZGqAPVCN8m2PlBF+1AVayGzexORESka7xTRRUScekuJm6Nw8OcQljIDDF/sBdeau/09INqyMzuREREVYGhisqlUKnC4v0JWHv0GgCgnbMVVoT6wL2RedlOoOeZ3YmIiKoKQxWV2a2HOfhwUyxib2YAAN7s4o7p/VtDZsg7TURERAxVVCZ/nk/F5O1nIM8thKWJIRaFtEffdpwCgYiIqFitGqg+f/58SCQSTJgwQbMtLy8PY8eORcOGDWFhYYHBgwcjLS1N67ibN29iwIABMDMzg52dHSZPnoyioiKtNkeOHIGPjw9kMhmaN2+OH3/88Ynrr1y5Eu7u7jAxMYGvry/++eefqviYNUpBkQpzfjuPd3+Jhjy3EB1crLF3vH/VBiqlEjhyBNi0Sf0nl68hIqJaoNaEqlOnTmHt2rVo37691vaPPvoIv/32G7Zt24a//voLt2/fRvAjT5IplUoMGDAABQUFOHHiBH766Sf8+OOPmDlzpqZNUlISBgwYgF69eiEuLg4TJkzA22+/jf3792vabNmyBRMnTsSsWbMQExODDh06IDAwEHfv3q36D68nNx/kIGTNCaw/fh0A8HY3D2x7rwtcG5hV3UXDwwF3d6BXL2D4cPWf7u5ccJmIiGo+UQtkZmaKFi1aiAMHDogePXqIsLAwIYQQGRkZwsjISGzbtk3T9uLFiwKAOHnypBBCiL179woDAwORmpqqabN69WphZWUl8vPzhRBCTJkyRXh6empd89VXXxWBgYGa988995wYO3as5r1SqRROTk5i3rx5Zf4ccrlcABByubzsH/5ZioqEiIgQYuNG9Z9FRTo57d4zt0W7mX8It6l7RPvZ+8WB86nPPqiyduwQQiIRQj2T1b8viUT92rGj6msgIiJ6TFl/v2vFnaqxY8diwIABCAgI0NoeHR2NwsJCre2tW7dGkyZNcPLkSQDAyZMn4eXlBXt7e02bwMBAKBQKnD9/XtPm8XMHBgZqzlFQUIDo6GitNgYGBggICNC00YsquKuTV6jEzN3n8P6GGGTmF8GniQ32hvkjoK39sw+uDKUSCAsrecb14m0TJrArkIiIaqwaP1B98+bNiImJwalTp57Yl5qaCmNjY9jY2Ghtt7e3R2pqqqbNo4GqeH/xvqe1USgUyM3NxcOHD6FUKktsc+nSpVJrz8/PR35+vua9QqF4xqcth/Bw9Qzlj4eQlBT19gpMqJl0PxvjNsbg/G11nWN6NMXHfVrBSFoN2TsyErh1q/T9QgDJyep2nJKBiIhqoBp9pyo5ORlhYWHYsGEDTExM9F1Ouc2bNw/W1taal6urq25OXAV3dX6Nv42XlkXi/G0FGpgbY/2b/8H0fm2qJ1AB6slAddmOiIiomtXoUBUdHY27d+/Cx8cHhoaGMDQ0xF9//YVly5bB0NAQ9vb2KCgoQEZGhtZxaWlpcHBwAAA4ODg88TRg8ftntbGysoKpqSkaNWoEqVRaYpvic5Rk+vTpkMvlmldycnKFvocnlOeuzjPkFSoxPfwsxm+KRXaBEs+5N8De8f7o1dpON7WWlWMZnyYsazsiIqJqVqNDVe/evXH27FnExcVpXp07d8aIESM0/2xkZIRDhw5pjklISMDNmzfh5+cHAPDz88PZs2e1ntI7cOAArKys0LZtW02bR89R3Kb4HMbGxujUqZNWG5VKhUOHDmnalEQmk8HKykrrpRM6uqtz5W4WglYex6Z/bkIiAT58oTk2vuMLB2s93BX091evA1i8wPLjJBLA1VXdjoiIqAaq0WOqLC0t0a5dO61t5ubmaNiwoWb76NGjMXHiRDRo0ABWVlb48MMP4efnh+effx4A0KdPH7Rt2xavv/46Fi5ciNTUVHz22WcYO3YsZDIZAOC9997DihUrMGXKFLz11ls4fPgwtm7dit9//11z3YkTJ2LkyJHo3LkznnvuOSxZsgTZ2dkYNWpUNX0bj9DBXZ3wmFv4bNc55BQo0cjCGN++2hH+LRr/O0dUda/NJ5UCS5eqx4NJJNpdm8VBa8kSrhNIREQ1VzU9jagzj06pIIQQubm54oMPPhC2trbCzMxMvPLKK+LOnTtax1y/fl3069dPmJqaikaNGolJkyaJwsJCrTYRERGiY8eOwtjYWDRt2lSsX7/+iWsvX75cNGnSRBgbG4vnnntO/P333+WqXWdTKhQVCeHiUvL0A8VTELi6lji9QnZ+ofh4a5xwm7pHuE3dI4atPSnS5LnqnTt2qM/76LlcXKp3KoOSanB15XQKRESkN2X9/ZYIUdJoZ6oKCoUC1tbWkMvlle8KLH76Dyj5rk4JT/9dTsvE2A0xSLybBQMJENa7Jca90BxSA0npTxM+5XxVRqlUjwer7rtlREREJSjr7zdDVTXSaagC1EEoLEx70Lqrq7qb7JEAJITAttO3MPPXc8grVKGxpQzLhnnDr1lDdQOlUj2/VWmD3yUS9XinpCSGGyIiqnfK+vtdo8dU0TMEBwODBj31rk52fhE+23UOO2NTAAD+LRrh21c7opGF7N/zcI4oIiKiSmOoqu2k0lKDzsU7CozdEINr97NhIAEm9WmF93s0g4HBY0/YcY4oIiKiSmOoqoOEENj0TzJm/3YeBUUqOFiZYFmoN57zaFDyAZwjioiIqNIYquqYzLxCfLLzHH6Lvw0A6NWqMb4e2hENzI1LP6h4jqiUlJJnaS8eU8U5ooiIiErFUFWHnEuRY9zGGFx/kANDAwmm9G2Ft7s1fbK773GcI4qIiKjSavSM6lQ2Qgj8fPI6gledwPUHOXC2McWWMX54t3sJ46dKExysnjbB2Vl7u4tL9U6nQEREVEvxTlUtJ4TAR1visCtO3d33Ylt7LAppDxuzp3T3laYMTxMSERFRyRiqajmJRALvJrb4/ewdTO/XBqO6ukNS2vp5ZfGUpwmJiIiodAxVdcAbfm7wb9EITRtb6LsUIiKieotjquoAiUTCQEVERKRnDFVEREREOsBQRURERKQDDFVEREREOsBQRURERKQDDFVEREREOsBQRURERKQDDFVEREREOsBQRURERKQDDFVEREREOsBQRURERKQDDFVEREREOsBQRURERKQDDFVEREREOmCo7wLqEyEEAEChUOi5EiIiIiqr4t/t4t/x0jBUVaPMzEwAgKurq54rISIiovLKzMyEtbV1qfsl4lmxi3RGpVLh9u3bsLS0hEQi0Xc5eqNQKODq6ork5GRYWVnpu5x6h9+//vC71y9+//pVm79/IQQyMzPh5OQEA4PSR07xTlU1MjAwgIuLi77LqDGsrKxq3X9YdQm/f/3hd69f/P71q7Z+/0+7Q1WMA9WJiIiIdIChioiIiEgHGKqo2slkMsyaNQsymUzfpdRL/P71h9+9fvH716/68P1zoDoRERGRDvBOFREREZEOMFQRERER6QBDFREREZEOMFQRERER6QBDFVWLefPm4T//+Q8sLS1hZ2eHoKAgJCQk6Lusemv+/PmQSCSYMGGCvkupN1JSUvDaa6+hYcOGMDU1hZeXF06fPq3vsuoFpVKJGTNmwMPDA6ampmjWrBm++OKLZ67jRhVz9OhRDBw4EE5OTpBIJNi1a5fWfiEEZs6cCUdHR5iamiIgIACJiYn6KVbHGKqoWvz1118YO3Ys/v77bxw4cACFhYXo06cPsrOz9V1avXPq1CmsXbsW7du313cp9cbDhw/RtWtXGBkZYd++fbhw4QK+/vpr2Nra6ru0emHBggVYvXo1VqxYgYsXL2LBggVYuHAhli9fru/S6qTs7Gx06NABK1euLHH/woULsWzZMqxZswZRUVEwNzdHYGAg8vLyqrlS3eOUCqQX9+7dg52dHf766y90795d3+XUG1lZWfDx8cGqVavw5ZdfomPHjliyZIm+y6rzpk2bhuPHjyMyMlLfpdRLL730Euzt7fHf//5Xs23w4MEwNTXF//73Pz1WVvdJJBLs3LkTQUFBANR3qZycnDBp0iR8/PHHAAC5XA57e3v8+OOPGDZsmB6rrTzeqSK9kMvlAIAGDRrouZL6ZezYsRgwYAACAgL0XUq98uuvv6Jz584YMmQI7Ozs4O3tje+++07fZdUbXbp0waFDh3D58mUAQHx8PI4dO4Z+/frpubL6JykpCampqVp/B1lbW8PX1xcnT57UY2W6wQWVqdqpVCpMmDABXbt2Rbt27fRdTr2xefNmxMTE4NSpU/oupd65du0aVq9ejYkTJ+KTTz7BqVOnMH78eBgbG2PkyJH6Lq/OmzZtGhQKBVq3bg2pVAqlUomvvvoKI0aM0Hdp9U5qaioAwN7eXmu7vb29Zl9txlBF1W7s2LE4d+4cjh07pu9S6o3k5GSEhYXhwIEDMDEx0Xc59Y5KpULnzp0xd+5cAIC3tzfOnTuHNWvWMFRVg61bt2LDhg3YuHEjPD09ERcXhwkTJsDJyYnfP+kUu/+oWo0bNw579uxBREQEXFxc9F1OvREdHY27d+/Cx8cHhoaGMDQ0xF9//YVly5bB0NAQSqVS3yXWaY6Ojmjbtq3WtjZt2uDmzZt6qqh+mTx5MqZNm4Zhw4bBy8sLr7/+Oj766CPMmzdP36XVOw4ODgCAtLQ0re1paWmafbUZQxVVCyEExo0bh507d+Lw4cPw8PDQd0n1Su/evXH27FnExcVpXp07d8aIESMQFxcHqVSq7xLrtK5duz4xhcjly5fh5uamp4rql5ycHBgYaP/cSaVSqFQqPVVUf3l4eMDBwQGHDh3SbFMoFIiKioKfn58eK9MNdv9RtRg7diw2btyI3bt3w9LSUtN3bm1tDVNTUz1XV/dZWlo+MX7N3NwcDRs25Li2avDRRx+hS5cumDt3LoYOHYp//vkH69atw7p16/RdWr0wcOBAfPXVV2jSpAk8PT0RGxuLb775Bm+99Za+S6uTsrKycOXKFc37pKQkxMXFoUGDBmjSpAkmTJiAL7/8Ei1atICHhwdmzJgBJycnzROCtZogqgYASnytX79e36XVWz169BBhYWH6LqPe+O2330S7du2ETCYTrVu3FuvWrdN3SfWGQqEQYWFhokmTJsLExEQ0bdpUfPrppyI/P1/fpdVJERERJf59P3LkSCGEECqVSsyYMUPY29sLmUwmevfuLRISEvRbtI5wnioiIiIiHeCYKiIiIiIdYKgiIiIi0gGGKiIiIiIdYKgiIiIi0gGGKiIiIiIdYKgiIiIi0gGGKiIiIiIdYKgiIgKwa9cuNG/eHFKpFBMmTNB3ORXi7u6OJUuW6LsMonqLoYqIKkwIgYCAAAQGBj6xb9WqVbCxscGtW7f0UFn5jRkzBiEhIUhOTsYXX3xRYht3d3dIJJInXvPnz6/makt26tQpvPvuu/oug6je4ozqRFQpycnJ8PLywoIFCzBmzBgA6rW+vLy8sHr1arz++us6vV5hYSGMjIx0es6srCxYWlri8OHD6NWrV6nt3N3dMXr0aLzzzjta2y0tLWFubq7TmsqjoKAAxsbGers+EanxThURVYqrqyuWLl2Kjz/+GElJSRBCYPTo0ejTpw+8vb3Rr18/WFhYwN7eHq+//jru37+vOfaPP/5At27dYGNjg4YNG+Kll17C1atXNfuvX78OiUSCLVu2oEePHjAxMcGGDRtw48YNDBw4ELa2tjA3N4enpyf27t1bao0PHz7EG2+8AVtbW5iZmaFfv35ITEwEABw5cgSWlpYAgBdeeAESiQRHjhwp9VyWlpZwcHDQehUHqs8//xxOTk548OCBpv2AAQPQq1cvqFQqAIBEIsHq1avRr18/mJqaomnTpti+fbvWNZKTkzF06FDY2NigQYMGGDRoEK5fv67Z/+abbyIoKAhfffUVnJyc0KpVKwBPdv9lZGTg7bffRuPGjWFlZYUXXngB8fHxmv2zZ89Gx44d8csvv8Dd3R3W1tYYNmwYMjMzNW1UKhUWLlyI5s2bQyaToUmTJvjqq6/KXCtRfcJQRUSVNnLkSPTu3RtvvfUWVqxYgXPnzmHt2rV44YUX4O3tjdOnT+OPP/5AWloahg4dqjkuOzsbEydOxOnTp3Ho0CEYGBjglVde0QSQYtOmTUNYWBguXryIwMBAjB07Fvn5+Th69CjOnj2LBQsWwMLCotT63nzzTZw+fRq//vorTp48CSEE+vfvj8LCQnTp0gUJCQkAgB07duDOnTvo0qVLhb6HTz/9FO7u7nj77bcBACtXrsSJEyfw008/wcDg379uZ8yYgcGDByM+Ph4jRozAsGHDcPHiRQDqO3GBgYGwtLREZGQkjh8/DgsLC/Tt2xcFBQWacxw6dAgJCQk4cOAA9uzZU2I9Q4YMwd27d7Fv3z5ER0fDx8cHvXv3Rnp6uqbN1atXsWvXLuzZswd79uzBX3/9pdWdOX36dMyfPx8zZszAhQsXsHHjRtjb25erVqJ6Q4+LORNRHZKWliYaNWokDAwMxM6dO8UXX3wh+vTpo9UmOTlZACh1Rfp79+4JAOLs2bNCCCGSkpIEALFkyRKtdl5eXmL27Nllquvy5csCgDh+/Lhm2/3794WpqanYunWrEEKIhw8fCgAiIiLiqedyc3MTxsbGwtzcXOt19OhRTZurV68KS0tLMXXqVGFqaio2bNigdQ4A4r333tPa5uvrK95//30hhBC//PKLaNWqlVCpVJr9+fn5wtTUVOzfv18IIcTIkSOFvb29yM/Pf6K+b7/9VgghRGRkpLCyshJ5eXlabZo1aybWrl0rhBBi1qxZwszMTCgUCs3+yZMnC19fXyGEEAqFQshkMvHdd9+V+H2UpVai+sRQn4GOiOoOOzs7jBkzBrt27UJQUBA2bNiAiIiIEu8gXb16FS1btkRiYiJmzpyJqKgo3L9/X3OH6ubNm2jXrp2mfefOnbWOHz9+PN5//338+eefCAgIwODBg9G+ffsS67p48SIMDQ3h6+ur2dawYUO0atVKc3eoPCZPnow333xTa5uzs7Pmn5s2bYrFixdjzJgxePXVVzF8+PAnzuHn5/fE+7i4OABAfHw8rly5oumSLJaXl6fVNerl5fXUcVTx8fHIyspCw4YNtbbn5uZqncfd3V3rWo6Ojrh79y4A9XeXn5+P3r17l3qNstRKVF8wVBGRzhgaGsLQUP3XSlZWFgYOHIgFCxY80c7R0REAMHDgQLi5ueG7776Dk5MTVCoV2rVr90TX0eODwN9++20EBgbi999/x59//ol58+bh66+/xocfflhFn+xfjRo1QvPmzZ/a5ujRo5BKpbh+/TqKioo030lZZGVloVOnTtiwYcMT+xo3bqz552cNjM/KyoKjo2OJ48NsbGw0//z4oH+JRKIJt6ampjqplai+4JgqIqoSPj4+OH/+PNzd3dG8eXOtl7m5OR48eICEhAR89tln6N27N9q0aYOHDx+W+fyurq547733EB4ejkmTJuG7774rsV2bNm1QVFSEqKgozbbia7dt27bSn/NxW7ZsQXh4OI4cOYKbN2+WOD3D33///cT7Nm3aAFB/b4mJibCzs3vie7O2ti5zHT4+PkhNTYWhoeET52nUqFGZztGiRQuYmpri0KFDpV5DF7US1RUMVURUJcaOHYv09HSEhobi1KlTuHr1Kvbv349Ro0ZBqVTC1tYWDRs2xLp163DlyhUcPnwYEydOLNO5J0yYgP379yMpKQkxMTGIiIjQhJLHtWjRAoMGDcI777yDY8eOIT4+Hq+99hqcnZ0xaNCgcn+uzMxMpKamar0UCgUA4NatW3j//fexYMECdOvWDevXr8fcuXOfCFHbtm3DDz/8gMuXL2PWrFn4559/MG7cOADAiBEj0KhRIwwaNAiRkZFISkrCkSNHMH78+HLN+RUQEAA/Pz8EBQXhzz//xPXr13HixAl8+umnOH36dJnOYWJigqlTp2LKlCn4+eefcfXqVfz999/473//q9NaieoKhioiqhJOTk44fvw4lEol+vTpAy8vL0yYMAE2NjYwMDCAgYEBNm/ejOjoaLRr1w4fffQRFi1aVKZzK5VKjB07Fm3atEHfvn3RsmVLrFq1qtT269evR6dOnfDSSy/Bz88PQgjs3bu3QvNdzZw5E46OjlqvKVOmQAiBN998E88995wmIAUGBuL999/Ha6+9hqysLM055syZg82bN6N9+/b4+eefsWnTJs1dMzMzMxw9ehRNmjRBcHAw2rRpg9GjRyMvLw9WVlZlrlMikWDv3r3o3r07Ro0ahZYtW2LYsGG4ceOG5um9spgxYwYmTZqEmTNnok2bNnj11Vc1Y650VStRXcHJP4mIqpFEIsHOnTsRFBSk71KISMd4p4qIiIhIBxiqiIiIiHSAUyoQEVUjjrggqrt4p4qIiIhIBxiqiIiIiHSAoYqIiIhIBxiqiIiIiHSAoYqIiIhIBxiqiIiIiHSAoYqIiIhIBxiqiIiIiHSAoYqIiIhIB/4PHcJRUPCWdIIAAAAASUVORK5CYII=\n"
          },
          "metadata": {}
        }
      ]
    },
    {
      "cell_type": "code",
      "source": [
        "from sklearn.model_selection import train_test_split\n",
        "X_train , X_test, y_train , y_test= train_test_split(X , y , test_size=0.3,random_state=0)"
      ],
      "metadata": {
        "id": "TaLRHw3Lb0pQ"
      },
      "execution_count": null,
      "outputs": []
    },
    {
      "cell_type": "code",
      "source": [
        "from sklearn.preprocessing import StandardScaler\n",
        "scaler = StandardScaler()\n",
        "X_train = pd.DataFrame(scaler.fit_transform(X_train),columns=X_train.columns)\n",
        "X_test = pd.DataFrame(scaler.transform(X_test),columns=X_test.columns)\n"
      ],
      "metadata": {
        "id": "jB11z2eIb7lX"
      },
      "execution_count": null,
      "outputs": []
    },
    {
      "cell_type": "code",
      "source": [
        "from sklearn.linear_model import LinearRegression\n",
        "#create the model instance\n",
        "model= LinearRegression()\n",
        "#fitting the model on the training data\n",
        "model.fit(X_train, y_train)\n",
        "#model.fit(X_train, y_train.values.reshape(-1,))"
      ],
      "metadata": {
        "colab": {
          "base_uri": "https://localhost:8080/",
          "height": 75
        },
        "id": "HuKcULrnb-qV",
        "outputId": "d60df743-ca99-403c-ce64-5d03cc091d5d"
      },
      "execution_count": null,
      "outputs": [
        {
          "output_type": "execute_result",
          "data": {
            "text/plain": [
              "LinearRegression()"
            ],
            "text/html": [
              "<style>#sk-container-id-6 {color: black;background-color: white;}#sk-container-id-6 pre{padding: 0;}#sk-container-id-6 div.sk-toggleable {background-color: white;}#sk-container-id-6 label.sk-toggleable__label {cursor: pointer;display: block;width: 100%;margin-bottom: 0;padding: 0.3em;box-sizing: border-box;text-align: center;}#sk-container-id-6 label.sk-toggleable__label-arrow:before {content: \"▸\";float: left;margin-right: 0.25em;color: #696969;}#sk-container-id-6 label.sk-toggleable__label-arrow:hover:before {color: black;}#sk-container-id-6 div.sk-estimator:hover label.sk-toggleable__label-arrow:before {color: black;}#sk-container-id-6 div.sk-toggleable__content {max-height: 0;max-width: 0;overflow: hidden;text-align: left;background-color: #f0f8ff;}#sk-container-id-6 div.sk-toggleable__content pre {margin: 0.2em;color: black;border-radius: 0.25em;background-color: #f0f8ff;}#sk-container-id-6 input.sk-toggleable__control:checked~div.sk-toggleable__content {max-height: 200px;max-width: 100%;overflow: auto;}#sk-container-id-6 input.sk-toggleable__control:checked~label.sk-toggleable__label-arrow:before {content: \"▾\";}#sk-container-id-6 div.sk-estimator input.sk-toggleable__control:checked~label.sk-toggleable__label {background-color: #d4ebff;}#sk-container-id-6 div.sk-label input.sk-toggleable__control:checked~label.sk-toggleable__label {background-color: #d4ebff;}#sk-container-id-6 input.sk-hidden--visually {border: 0;clip: rect(1px 1px 1px 1px);clip: rect(1px, 1px, 1px, 1px);height: 1px;margin: -1px;overflow: hidden;padding: 0;position: absolute;width: 1px;}#sk-container-id-6 div.sk-estimator {font-family: monospace;background-color: #f0f8ff;border: 1px dotted black;border-radius: 0.25em;box-sizing: border-box;margin-bottom: 0.5em;}#sk-container-id-6 div.sk-estimator:hover {background-color: #d4ebff;}#sk-container-id-6 div.sk-parallel-item::after {content: \"\";width: 100%;border-bottom: 1px solid gray;flex-grow: 1;}#sk-container-id-6 div.sk-label:hover label.sk-toggleable__label {background-color: #d4ebff;}#sk-container-id-6 div.sk-serial::before {content: \"\";position: absolute;border-left: 1px solid gray;box-sizing: border-box;top: 0;bottom: 0;left: 50%;z-index: 0;}#sk-container-id-6 div.sk-serial {display: flex;flex-direction: column;align-items: center;background-color: white;padding-right: 0.2em;padding-left: 0.2em;position: relative;}#sk-container-id-6 div.sk-item {position: relative;z-index: 1;}#sk-container-id-6 div.sk-parallel {display: flex;align-items: stretch;justify-content: center;background-color: white;position: relative;}#sk-container-id-6 div.sk-item::before, #sk-container-id-6 div.sk-parallel-item::before {content: \"\";position: absolute;border-left: 1px solid gray;box-sizing: border-box;top: 0;bottom: 0;left: 50%;z-index: -1;}#sk-container-id-6 div.sk-parallel-item {display: flex;flex-direction: column;z-index: 1;position: relative;background-color: white;}#sk-container-id-6 div.sk-parallel-item:first-child::after {align-self: flex-end;width: 50%;}#sk-container-id-6 div.sk-parallel-item:last-child::after {align-self: flex-start;width: 50%;}#sk-container-id-6 div.sk-parallel-item:only-child::after {width: 0;}#sk-container-id-6 div.sk-dashed-wrapped {border: 1px dashed gray;margin: 0 0.4em 0.5em 0.4em;box-sizing: border-box;padding-bottom: 0.4em;background-color: white;}#sk-container-id-6 div.sk-label label {font-family: monospace;font-weight: bold;display: inline-block;line-height: 1.2em;}#sk-container-id-6 div.sk-label-container {text-align: center;}#sk-container-id-6 div.sk-container {/* jupyter's `normalize.less` sets `[hidden] { display: none; }` but bootstrap.min.css set `[hidden] { display: none !important; }` so we also need the `!important` here to be able to override the default hidden behavior on the sphinx rendered scikit-learn.org. See: https://github.com/scikit-learn/scikit-learn/issues/21755 */display: inline-block !important;position: relative;}#sk-container-id-6 div.sk-text-repr-fallback {display: none;}</style><div id=\"sk-container-id-6\" class=\"sk-top-container\"><div class=\"sk-text-repr-fallback\"><pre>LinearRegression()</pre><b>In a Jupyter environment, please rerun this cell to show the HTML representation or trust the notebook. <br />On GitHub, the HTML representation is unable to render, please try loading this page with nbviewer.org.</b></div><div class=\"sk-container\" hidden><div class=\"sk-item\"><div class=\"sk-estimator sk-toggleable\"><input class=\"sk-toggleable__control sk-hidden--visually\" id=\"sk-estimator-id-6\" type=\"checkbox\" checked><label for=\"sk-estimator-id-6\" class=\"sk-toggleable__label sk-toggleable__label-arrow\">LinearRegression</label><div class=\"sk-toggleable__content\"><pre>LinearRegression()</pre></div></div></div></div></div>"
            ]
          },
          "metadata": {},
          "execution_count": 47
        }
      ]
    },
    {
      "cell_type": "code",
      "source": [
        "model.score(X_test, y_test)"
      ],
      "metadata": {
        "colab": {
          "base_uri": "https://localhost:8080/"
        },
        "id": "e8Vecyw_cBzn",
        "outputId": "50884a4f-2543-4a0a-a430-df8f1058e12a"
      },
      "execution_count": null,
      "outputs": [
        {
          "output_type": "execute_result",
          "data": {
            "text/plain": [
              "0.9740993407213511"
            ]
          },
          "metadata": {},
          "execution_count": 48
        }
      ]
    },
    {
      "cell_type": "code",
      "source": [
        "#Plotting the testing data\n",
        "plt.scatter(X_test,y_test, color='red')\n",
        "plt.plot(X_test,model.predict(X_test))\n",
        "plt.title('Linear Regression')\n",
        "plt.xlabel('Years of Experience')\n",
        "plt.ylabel('Salary')\n",
        "plt.show()"
      ],
      "metadata": {
        "colab": {
          "base_uri": "https://localhost:8080/",
          "height": 472
        },
        "id": "R3NbzR9Qcgbg",
        "outputId": "2b887129-54dc-4ecd-cfee-2be6c6086928"
      },
      "execution_count": null,
      "outputs": [
        {
          "output_type": "display_data",
          "data": {
            "text/plain": [
              "<Figure size 640x480 with 1 Axes>"
            ],
            "image/png": "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\n"
          },
          "metadata": {}
        }
      ]
    }
  ]
}
